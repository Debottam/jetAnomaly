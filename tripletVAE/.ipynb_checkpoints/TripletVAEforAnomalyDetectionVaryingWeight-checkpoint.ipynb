{
 "cells": [
  {
   "cell_type": "markdown",
   "metadata": {},
   "source": [
    "## Triplet Loss and VAE for anomaly detection in hadronic jets"
   ]
  },
  {
   "cell_type": "code",
   "execution_count": 1,
   "metadata": {},
   "outputs": [
    {
     "name": "stderr",
     "output_type": "stream",
     "text": [
      "Using TensorFlow backend.\n"
     ]
    },
    {
     "name": "stdout",
     "output_type": "stream",
     "text": [
      "Welcome to JupyROOT 6.16/00\n"
     ]
    }
   ],
   "source": [
    "import numpy as np\n",
    "import os\n",
    "os.environ[\"KERAS_BACKEND\"] = \"tensorflow\"\n",
    "import h5py\n",
    "import pickle\n",
    "import pandas\n",
    "import matplotlib.pyplot as plt\n",
    "#import deepdish.io as io\n",
    "import tensorflow as tf\n",
    "#tf.enable_eager_execution()\n",
    "from tensorflow.keras.models import Model,Sequential\n",
    "from tensorflow.keras.layers import Input, Dense, Dropout, Lambda\n",
    "from keras.utils import plot_model\n",
    "from keras.models import load_model\n",
    "from sklearn.preprocessing import scale, normalize\n",
    "from sklearn.preprocessing import RobustScaler, StandardScaler\n",
    "from sklearn.model_selection import train_test_split\n",
    "from sklearn.utils import check_random_state\n",
    "from ROOT import TLorentzVector\n",
    "from matplotlib.colors import LogNorm\n",
    "#from skhep.math import LorentzVector\n",
    "import random\n",
    "#tf.enable_eager_execution()"
   ]
  },
  {
   "cell_type": "code",
   "execution_count": 40,
   "metadata": {},
   "outputs": [
    {
     "data": {
      "text/plain": [
       "'2.3.0'"
      ]
     },
     "execution_count": 40,
     "metadata": {},
     "output_type": "execute_result"
    }
   ],
   "source": [
    "tf.__version__"
   ]
  },
  {
   "cell_type": "markdown",
   "metadata": {},
   "source": [
    "## Loading data to use as outliers in calculating Triplet Loss"
   ]
  },
  {
   "cell_type": "code",
   "execution_count": 41,
   "metadata": {},
   "outputs": [
    {
     "name": "stdout",
     "output_type": "stream",
     "text": [
      "Zp2200-S80A15.h5  Zp3300m1_S400A80.h5  Zp3300_S400A80.h5\r\n",
      "Zp2200_S80A30.h5  Zp3300m1_S400VV.h5\r\n"
     ]
    }
   ],
   "source": [
    "!ls /lcg/storage13/atlas/gupta/stealth_boson"
   ]
  },
  {
   "cell_type": "code",
   "execution_count": 42,
   "metadata": {},
   "outputs": [],
   "source": [
    "f_Zboson=h5py.File('/lcg/storage13/atlas/gupta/stealth_boson/Zp2200-S80A15.h5','r')"
   ]
  },
  {
   "cell_type": "code",
   "execution_count": 43,
   "metadata": {},
   "outputs": [
    {
     "data": {
      "text/plain": [
       "<KeysViewHDF5 ['high_level', 'objects', 'partons']>"
      ]
     },
     "execution_count": 43,
     "metadata": {},
     "output_type": "execute_result"
    }
   ],
   "source": [
    "f_Zboson.keys()"
   ]
  },
  {
   "cell_type": "code",
   "execution_count": 44,
   "metadata": {},
   "outputs": [
    {
     "data": {
      "text/plain": [
       "185"
      ]
     },
     "execution_count": 44,
     "metadata": {},
     "output_type": "execute_result"
    }
   ],
   "source": [
    "# Constituents of leading jet in an event\n",
    "len(f_Zboson[\"objects/jets/constituents\"][0,0])"
   ]
  },
  {
   "cell_type": "code",
   "execution_count": 45,
   "metadata": {},
   "outputs": [
    {
     "data": {
      "text/plain": [
       "97579"
      ]
     },
     "execution_count": 45,
     "metadata": {},
     "output_type": "execute_result"
    }
   ],
   "source": [
    "# Total no. of events\n",
    "len(f_Zboson[\"objects/jets/constituents\"][:,0])"
   ]
  },
  {
   "cell_type": "markdown",
   "metadata": {},
   "source": [
    "## Loading data to use as background"
   ]
  },
  {
   "cell_type": "code",
   "execution_count": 46,
   "metadata": {},
   "outputs": [],
   "source": [
    "# QCD data\n",
    "f_QCD=h5py.File('/lcg/storage13/atlas/martinj/h5/pp_jj/final_jj_1MEvents.h5','r')"
   ]
  },
  {
   "cell_type": "code",
   "execution_count": 47,
   "metadata": {},
   "outputs": [
    {
     "data": {
      "text/plain": [
       "<KeysViewHDF5 ['high_level', 'objects', 'partons']>"
      ]
     },
     "execution_count": 47,
     "metadata": {},
     "output_type": "execute_result"
    }
   ],
   "source": [
    "# Constituents of leading jet in an event\n",
    "f_QCD.keys()"
   ]
  },
  {
   "cell_type": "code",
   "execution_count": 48,
   "metadata": {},
   "outputs": [
    {
     "data": {
      "text/plain": [
       "80"
      ]
     },
     "execution_count": 48,
     "metadata": {},
     "output_type": "execute_result"
    }
   ],
   "source": [
    "# Constituents of leading jet in an event\n",
    "len(f_QCD[\"objects/jets/constituents\"][0,0])"
   ]
  },
  {
   "cell_type": "code",
   "execution_count": 49,
   "metadata": {},
   "outputs": [
    {
     "data": {
      "text/plain": [
       "705643"
      ]
     },
     "execution_count": 49,
     "metadata": {},
     "output_type": "execute_result"
    }
   ],
   "source": [
    "# Total no. of events\n",
    "len(f_QCD[\"objects/jets/constituents\"][:,0])"
   ]
  },
  {
   "cell_type": "code",
   "execution_count": 50,
   "metadata": {},
   "outputs": [
    {
     "name": "stdout",
     "output_type": "stream",
     "text": [
      "final_merging_script_tt.py  final_tt_500kEvents.h5\r\n"
     ]
    }
   ],
   "source": [
    "!ls /lcg/storage13/atlas/martinj/h5/pp_tt"
   ]
  },
  {
   "cell_type": "markdown",
   "metadata": {},
   "source": [
    "## Loading data to use as signal"
   ]
  },
  {
   "cell_type": "code",
   "execution_count": 51,
   "metadata": {},
   "outputs": [],
   "source": [
    "# tt_bar data\n",
    "f_ttbar=h5py.File('/lcg/storage13/atlas/martinj/h5/pp_tt/final_tt_500kEvents.h5','r')"
   ]
  },
  {
   "cell_type": "code",
   "execution_count": 52,
   "metadata": {},
   "outputs": [
    {
     "data": {
      "text/plain": [
       "505"
      ]
     },
     "execution_count": 52,
     "metadata": {},
     "output_type": "execute_result"
    }
   ],
   "source": [
    "# Constituents of leading jet in an event\n",
    "len(f_ttbar[\"objects/jets/constituents\"][0,0])"
   ]
  },
  {
   "cell_type": "code",
   "execution_count": 53,
   "metadata": {},
   "outputs": [
    {
     "data": {
      "text/plain": [
       "320124"
      ]
     },
     "execution_count": 53,
     "metadata": {},
     "output_type": "execute_result"
    }
   ],
   "source": [
    "# Total no. of events\n",
    "len(f_ttbar[\"objects/jets/constituents\"][:,0])"
   ]
  },
  {
   "cell_type": "code",
   "execution_count": 54,
   "metadata": {},
   "outputs": [],
   "source": [
    "train_data = '/lcg/storage13/atlas/martinj/h5/pp_jj/final_jj_1MEvents.h5'\n",
    "test_data = '/lcg/storage13/atlas/martinj/h5/pp_tt/final_tt_500kEvents.h5'\n",
    "outlier = '/lcg/storage13/atlas/gupta/stealth_boson/Zp2200-S80A15.h5'"
   ]
  },
  {
   "cell_type": "markdown",
   "metadata": {},
   "source": [
    "## Functions required to preprocess data"
   ]
  },
  {
   "cell_type": "code",
   "execution_count": 55,
   "metadata": {},
   "outputs": [],
   "source": [
    "def ExyzToEtaPhiPtE(fourvectors):\n",
    "    '''Convert collection of jet constituent fourvectors from Epxpypz representation to EtaPhiPtE.\n",
    "    Input array fourvectors must be of shape (nJets,nConstituent,4), with fourvector ordered E,px,py,pz.\n",
    "    Returns same shape but with fourvector ordered eta,phi,pT,E.'''\n",
    "    \n",
    "    nconst = fourvectors.shape[1]\n",
    "    pt = np.sqrt(np.sum(np.power(fourvectors[:,:,1:3],2),axis=-1))\n",
    "    p =  np.sqrt(np.sum(np.power(fourvectors[:,:,1:],2),axis=-1))\n",
    "    eta = -0.5*np.log( (1 - fourvectors[:,:,3] / p)/(1+fourvectors[:,:,3] / p)) #need to implement case of pz == 0 (eta = 0)\n",
    "    try:\n",
    "        eta[(fourvectors[:,:,-1].mask) | (fourvectors[:,:,-1] == 0)] = 0\n",
    "    except:\n",
    "        eta[(fourvectors[:,:,-1] == 0)] = 0\n",
    "    phi = np.arctan2(fourvectors[:,:,2], fourvectors[:,:,1])\n",
    "    e = fourvectors[:,:,0]\n",
    "    \n",
    "    phi = np.where(phi > np.pi, phi - 2*np.pi, phi)\n",
    "    phi = np.where(phi <= -np.pi, phi + 2*np.pi, phi)\n",
    "\n",
    "    return np.ma.concatenate([\n",
    "        eta.reshape(-1,nconst,1),\n",
    "        phi.reshape(-1,nconst,1),\n",
    "        pt.reshape(-1,nconst,1),\n",
    "        e.reshape(-1,nconst,1)\n",
    "    ],axis=-1)\n",
    "\n",
    "def EtaPhiPtEToXyzE(fourvectors):\n",
    "    nconst = fourvectors.shape[1]\n",
    "    #pt = np.sqrt(np.sum(np.power(fourvectors[:,:,1:3],2),axis=-1))\n",
    "    #p =  np.sqrt(np.sum(np.power(fourvectors[:,:,1:],2),axis=-1))\n",
    "    #eta = -0.5*np.log( (1 - fourvectors[:,:,3] / p)/(1+fourvectors[:,:,3] / p)) #need to implement case of pz == 0 (eta = 0)\n",
    "    #eta[(fourvectors[:,:,-1].mask) | (fourvectors[:,:,-1] == 0)] = 0\n",
    "    #phi = np.arctan2(fourvectors[:,:,2], fourvectors[:,:,1])\n",
    "    e = fourvectors[:,:,-1]\n",
    "    px = fourvectors[:,:,2]*np.cos(fourvectors[:,:,1])\n",
    "    py = fourvectors[:,:,2]*np.sin(fourvectors[:,:,1])\n",
    "    pz = fourvectors[:,:,2]*np.sinh(fourvectors[:,:,0])\n",
    "    \n",
    "    return np.ma.concatenate([\n",
    "        px.reshape(-1,nconst,1),\n",
    "        py.reshape(-1,nconst,1),\n",
    "        pz.reshape(-1,nconst,1),\n",
    "        e.reshape(-1,nconst,1),\n",
    "    ],axis=-1)\n",
    "\n",
    "def transform_jets(jets,jet_pt,jet_e):\n",
    "    #centre jet on leading pT cluster\n",
    "    jet_eta = jets[:,0,0]\n",
    "    jet_phi = jets[:,0,1]\n",
    "\n",
    "    mask = jets.mask.copy()\n",
    "    nconst = jets.shape[1]\n",
    "\n",
    "    #jets = np.ma.masked_where(df.mask,jets)\n",
    "    jets[:,:,:2] = np.ma.masked_array(np.concatenate([(jets[:,:,0] - jet_eta.reshape(-1,1)).reshape(-1,nconst,1),\n",
    "                                (jets[:,:,1] - jet_phi.reshape(-1,1)).reshape(-1,nconst,1)], axis=-1),mask=mask[:,:,:2])\n",
    "\n",
    "    #constraint phi between -pi and pi\n",
    "    jets[:,:,1] = np.where(jets[:,:,1] < np.pi, jets[:,:,1] + 2*np.pi,jets[:,:,1])\n",
    "    jets[:,:,1] = np.where(jets[:,:,1] >= np.pi, jets[:,:,1] - 2*np.pi,jets[:,:,1])\n",
    "    \n",
    "    #Add fraction pT\n",
    "    fracs = np.concatenate([(jets[:,:,2] / jet_pt.reshape(-1,1)).reshape(-1,nconst,1), (jets[:,:,3] / jet_e.reshape(-1,1)).reshape(-1,nconst,1)],axis=-1)\n",
    "    fracs = np.ma.masked_array(fracs,mask=mask[:,:,:2])\n",
    "    jets = np.ma.concatenate([jets,fracs],axis=-1)\n",
    "\n",
    "    #Rotate subleading cluster\n",
    "    alpha = - np.arctan2(jets[:,1,1],jets[:,1,0])\n",
    "    alpha = np.repeat(alpha,nconst).reshape(-1,nconst)\n",
    "    jetseta = jets[:,:,0]*np.cos(alpha) - jets[:,:,1]*np.sin(alpha)\n",
    "    jetsphi = jets[:,:,0]*np.sin(alpha) + jets[:,:,1]*np.cos(alpha)\n",
    "\n",
    "    #Calculate Centre of P and flip so always positive\n",
    "    flip = np.sum((jetsphi * jets[:,:,-2]),axis=-1) < 0\n",
    "    jetsphi = np.ma.where(np.repeat(flip,nconst).reshape(-1,nconst), -1*jetsphi, jetsphi)\n",
    "    jets[:,:,:2] = np.ma.concatenate([jetseta.reshape(-1,nconst,1),jetsphi.reshape(-1,nconst,1)],axis=-1)\n",
    "\n",
    "    #Recalculate E in transformed space, assume massless constituents\n",
    "    emod = jets[:,:,2]*np.cosh(jets[:,:,0])\n",
    "    fracemod = jets[:,:,4]*np.cosh(jets[:,:,0])\n",
    "    # if jets.shape[-1] == 3:\n",
    "    #     jets = jets.dstack(jets,emod.reshape(-1,jets.shape[1],1))\n",
    "    # elif jets.shape[-1] == 4:\n",
    "    jets[:,:,3] = emod\n",
    "    jets[:,:,5] = fracemod\n",
    "\n",
    "    return jets"
   ]
  },
  {
   "cell_type": "code",
   "execution_count": 56,
   "metadata": {},
   "outputs": [],
   "source": [
    "def getJetsFromH5(filename,nconst=40,nattr=5,append_subleading=True,return_pxpypzE=False):\n",
    "    '''Return the training dataset in the form (njets,nconstituents,(dEta,dPhi,pT,E,pT(jet),E(jet))). Columns are assumed to be Four vectors in E,px,py,pz followed by global variables and meta data.\n",
    "    Additionally returns large radius jet properties: jet_pt, jet_e, jet_deta, for renormalising and transforming.\n",
    "    Returned shape (njets,nconst,6),njets,njets,njets\n",
    "    filename: path of the file\n",
    "    nconst: Number of constituents to take, sorted by pT\n",
    "    nattr: Number of attributes per jet in the file\n",
    "    append_subleading: Return leading and subleading jets, concetenated together\n",
    "    return_pxpypzE: Return jets in the form (njets,constituents,(px,py,pz,E)) instead\n",
    "    '''\n",
    "    f = h5py.File(filename,'r')\n",
    "    jets = f['objects/jets/constituents'][:,0]\n",
    "    fjet = f['objects/jets/obs'][:,0]\n",
    "    if append_subleading is True:\n",
    "        jets = np.concatenate([jets,f['objects/jets/constituents'][:,1]])\n",
    "        fjet = np.concatenate([fjet,f['objects/jets/obs'][:,1]])\n",
    "\n",
    "    for _ in map(lambda x: x.resize(nattr*nconst,refcheck=False),jets): pass\n",
    "    #while map(lambda x: x.resize(nattr*nconst,refcheck=False),jets).__next__(): pass\n",
    "    jets = np.vstack(jets).reshape(-1,nconst,nattr)\n",
    "    jets = jets[:,:,:4]\n",
    "\n",
    "    def EfromPtEtaPhiM(arr):\n",
    "        pt  = arr[0]\n",
    "        eta = arr[1]\n",
    "        phi = arr[2]\n",
    "        m   = arr[3]\n",
    "        return np.sqrt((pt*np.cos(phi))**2 + (pt*np.sin(phi))**2 + (pt*np.sinh(eta))**2 - m*m)\n",
    "    \n",
    "    jet_e = np.apply_along_axis(EfromPtEtaPhiM,1,fjet)\n",
    "    jet_pt = fjet[:,0]\n",
    "\n",
    "    jets = np.ma.masked_where(jets == [0,0,0,0],jets)\n",
    "    jets = ExyzToEtaPhiPtE(jets)\n",
    " \n",
    "    jet_deta = jets[:,0,0]\n",
    "    jets = transform_jets(jets,jet_pt,jet_e)\n",
    "\n",
    "    if return_pxpypzE == True:\n",
    "        jets = EtaPhiPtEToXyzE(jets[:,:,:4])\n",
    "\n",
    "    return jets,jet_pt,jet_e,jet_deta\n"
   ]
  },
  {
   "cell_type": "code",
   "execution_count": 57,
   "metadata": {},
   "outputs": [],
   "source": [
    "train_jets, train_jet_pt, _,_ = getJetsFromH5(train_data,nconst=20,append_subleading=False,return_pxpypzE=True)"
   ]
  },
  {
   "cell_type": "code",
   "execution_count": 58,
   "metadata": {},
   "outputs": [],
   "source": [
    "test_jets, test_jet_pt, _,_ = getJetsFromH5(test_data,nconst=20,append_subleading=False,return_pxpypzE=True)"
   ]
  },
  {
   "cell_type": "code",
   "execution_count": 59,
   "metadata": {},
   "outputs": [],
   "source": [
    "outlier_jets, outlier_jet_pt, _,_ = getJetsFromH5(outlier,nconst=20,append_subleading=False,return_pxpypzE=True)"
   ]
  },
  {
   "cell_type": "code",
   "execution_count": 60,
   "metadata": {},
   "outputs": [],
   "source": [
    "lentraindata = len(outlier_jets)\n",
    "val_jets, val_jet_pt = train_jets[2*lentraindata:3*lentraindata], train_jet_pt[2*lentraindata:3*lentraindata]\n",
    "train_jets, train_jet_pt = train_jets[:2*lentraindata], train_jet_pt[:2*lentraindata]\n",
    "test_jets,test_jet_pt = test_jets[:lentraindata], test_jet_pt[:lentraindata]"
   ]
  },
  {
   "cell_type": "code",
   "execution_count": 61,
   "metadata": {},
   "outputs": [],
   "source": [
    "def etaphipte_to_pxpypze(jet):\n",
    "    v = TLorentzVector()\n",
    "    v.SetPtEtaPhiE(*jet[[2,0,1,3]])\n",
    "    return (v.Px,v.Py,v.Pz,v.E)\n",
    "\n",
    "def m_from_pxpypze(jet):\n",
    "    v = TLorentzVector()\n",
    "    v.SetPxPyPzE(*jet)\n",
    "    return v.M\n",
    "\n",
    "def pt_from_pxpypze(jet):\n",
    "    v = TLorentzVector()\n",
    "    v.SetPxPyPzE(*jet)\n",
    "    return v.Pt"
   ]
  },
  {
   "cell_type": "code",
   "execution_count": 62,
   "metadata": {},
   "outputs": [],
   "source": [
    "def _jetmass_from_const(jetconst,pxpypze=False):\n",
    "    if pxpypze == False:\n",
    "        jets_xyz = np.apply_along_axis(etaphipte_to_pxpypze,2,jetconst)\n",
    "    else:\n",
    "        jets_xyz = jetconst\n",
    "    jets_m = np.apply_along_axis(m_from_pxpypze,-1,np.sum(jets_xyz,axis=1))\n",
    "    return jets_m"
   ]
  },
  {
   "cell_type": "code",
   "execution_count": 63,
   "metadata": {},
   "outputs": [],
   "source": [
    "train_true_m = _jetmass_from_const(train_jets,pxpypze=True)\n",
    "train_jets_norm = train_jets / train_jet_pt[::,np.newaxis,np.newaxis]\n",
    "\n",
    "test_true_m = _jetmass_from_const(test_jets,pxpypze=True)\n",
    "test_jets_norm = test_jets / test_jet_pt[::,np.newaxis,np.newaxis]\n",
    "\n",
    "outlier_true_m = _jetmass_from_const(outlier_jets,pxpypze=True)\n",
    "outlier_jets_norm = outlier_jets / outlier_jet_pt[::,np.newaxis,np.newaxis]\n",
    "\n",
    "val_true_m = _jetmass_from_const(val_jets,pxpypze=True)\n",
    "val_jets_norm = val_jets / val_jet_pt[::,np.newaxis,np.newaxis]"
   ]
  },
  {
   "cell_type": "markdown",
   "metadata": {},
   "source": [
    "## Functions to plot"
   ]
  },
  {
   "cell_type": "code",
   "execution_count": 64,
   "metadata": {},
   "outputs": [],
   "source": [
    "def jetPlot(jets,selection=None,label=None,axis=None,Eplot=False):\n",
    "    '''Plot the 2D jet image of the jet in eta-phi space.\n",
    "    By default, constituent pT will be used for the z-axis.\n",
    "    Inputs:\n",
    "        jets: collection of jets in the form [njet,nconstituents,(eta,phi,...,pT,eta)]\n",
    "    Optional:\n",
    "        selection: any additional jet based selection\n",
    "        label: jet label for the axis title\n",
    "        axis: can pass a matplotlib axis instead of creating a new axis\n",
    "        Eplot: Use constituent energy on the z-axis instead of pT\n",
    "    Returns:\n",
    "        matplotlib axis\n",
    "    '''\n",
    "\n",
    "    eta = jets[:,:,0]\n",
    "    phi = jets[:,:,1]\n",
    "    njet = eta.shape[0]\n",
    "    nclusters = eta.shape[1]\n",
    "    z = jets[:,:,3] if Eplot else jets[:,:,2]\n",
    "\n",
    "    if selection is not None:\n",
    "        z = z.ravel()*np.repeat(selection,nclusters)\n",
    "    else:\n",
    "        z = z.ravel()\n",
    "\n",
    "    if axis is None:\n",
    "        fig,axis = plt.subplots(1,1)\n",
    "    h = axis.hist2d(eta.ravel(),phi.ravel(),weights=z / njet,bins=(np.arange(-1.525,1.525,0.05),np.arange(-1.525,1.525,0.05)), norm=LogNorm(),cmap='viridis',vmin=1e-8,vmax=1.0)\n",
    "    plt.colorbar(h[3], ax=axis)\n",
    "    axis.set_xlabel(\"$\\Delta\\eta$\",horizontalalignment='right',x=1.0)\n",
    "    axis.set_ylabel(\"$\\Delta\\phi$\",verticalalignment='top',y=1.0)\n",
    "    axis.set_title(label)\n",
    "    return axis\n",
    "\n",
    "def _jet_image_plots(val,test,val_label,test_label):#tputpath,name,pxpypze=False):\n",
    "    fig,axes = plt.subplots(nrows=1,ncols=2)\n",
    "    fig.set_size_inches(12, 5)\n",
    "    \n",
    "    val2 = val[:,:,[-1,0,1,2]]\n",
    "    val2 = ExyzToEtaPhiPtE(val2)\n",
    "\n",
    "    jetPlot(val2,label=val_label,axis=axes[0])\n",
    "    del val2\n",
    "    test2 = test[:,:,[-1,0,1,2]]\n",
    "    test2 = ExyzToEtaPhiPtE(test2)\n",
    "    jetPlot(test2,label=test_label,axis=axes[1])\n",
    "    del test2"
   ]
  },
  {
   "cell_type": "code",
   "execution_count": 66,
   "metadata": {},
   "outputs": [
    {
     "data": {
      "image/png": "[encoded data removed]",
      "text/plain": [
       "<Figure size 864x360 with 4 Axes>"
      ]
     },
     "metadata": {
      "needs_background": "light"
     },
     "output_type": "display_data"
    }
   ],
   "source": [
    "train='qcd'# 'top'\n",
    "outlier = 'Zp3300_S400A80'\n",
    "test = 'top'\n",
    "\n",
    "_jet_image_plots(train_jets_norm,test_jets_norm,\n",
    "             train,test)"
   ]
  },
  {
   "cell_type": "code",
   "execution_count": 68,
   "metadata": {},
   "outputs": [
    {
     "data": {
      "image/png": "[encoded data removed]",
      "text/plain": [
       "<Figure size 864x360 with 4 Axes>"
      ]
     },
     "metadata": {
      "needs_background": "light"
     },
     "output_type": "display_data"
    }
   ],
   "source": [
    "_jet_image_plots(val_jets_norm,outlier_jets_norm,\n",
    "                 train,outlier)"
   ]
  },
  {
   "cell_type": "code",
   "execution_count": 27,
   "metadata": {},
   "outputs": [],
   "source": [
    "def transform_set(x_values,transformers):\n",
    "    return np.ma.masked_where(x_values.mask,\n",
    "                              np.dstack([trans.transform(x_values[:,:,i].reshape(-1,1))\n",
    "                                                                        .reshape(*x_values.shape[:2],1)\\\n",
    "                              for i,trans in enumerate(transformers)]))"
   ]
  },
  {
   "cell_type": "code",
   "execution_count": 28,
   "metadata": {},
   "outputs": [],
   "source": [
    "transformers = [RobustScaler().fit(train_jets_norm[:,:,i][~train_jets.mask[:,:,i]].reshape(-1,1)) for i in range(train_jets.shape[-1])] "
   ]
  },
  {
   "cell_type": "code",
   "execution_count": 29,
   "metadata": {},
   "outputs": [],
   "source": [
    "train_jets_t = transform_set(train_jets_norm,transformers)\n",
    "train_jets_t  = train_jets_t.reshape(-1,20*4)\n",
    "outlier_jets_t = transform_set(outlier_jets_norm,transformers)\n",
    "outlier_jets_t  = outlier_jets_t.reshape(-1,20*4)\n",
    "test_jets_t = transform_set(test_jets_norm,transformers)\n",
    "test_jets_t  = test_jets_t.reshape(-1,20*4)\n",
    "val_jets_t = transform_set(val_jets_norm,transformers)\n",
    "val_jets_t  = val_jets_t.reshape(-1,20*4)"
   ]
  },
  {
   "cell_type": "code",
   "execution_count": 30,
   "metadata": {},
   "outputs": [
    {
     "data": {
      "text/plain": [
       "(195158, 80)"
      ]
     },
     "execution_count": 30,
     "metadata": {},
     "output_type": "execute_result"
    }
   ],
   "source": [
    "train_jets_t.shape"
   ]
  },
  {
   "cell_type": "code",
   "execution_count": 30,
   "metadata": {},
   "outputs": [
    {
     "name": "stdout",
     "output_type": "stream",
     "text": [
      "Shape of training dataset:  (292737, 80)\n",
      "Shape of testing dataset:  (195158, 80)\n"
     ]
    }
   ],
   "source": [
    "# concatenating training tshirt , shirt, boot\n",
    "training_X = np.concatenate((train_jets_t,outlier_jets_t), axis = 0)\n",
    "training_X = training_X.astype('float32')\n",
    "# concatenating test tshirt and shoe\n",
    "testing_X = np.concatenate((val_jets_t,test_jets_t), axis = 0)\n",
    "testing_X = testing_X.astype('float32')\n",
    "print(\"Shape of training dataset: \",training_X.shape)\n",
    "print(\"Shape of testing dataset: \",testing_X.shape)"
   ]
  },
  {
   "cell_type": "code",
   "execution_count": 31,
   "metadata": {},
   "outputs": [],
   "source": [
    "# generate labels for training dataset tshirt = 0 and trouser = 1\n",
    "train_y = np.concatenate((np.zeros(len(train_jets_t)), np.ones(len(outlier_jets_t))), axis=0)\n",
    "\n",
    "# test generate labels for testing dataser tshirt = 0 and shoe = 1\n",
    "test_y = np.concatenate((np.zeros(len(val_jets_t)), np.ones(len(test_jets_t))), axis=0)"
   ]
  },
  {
   "cell_type": "code",
   "execution_count": 32,
   "metadata": {},
   "outputs": [],
   "source": [
    "# Shuffling test data\n",
    "rng = check_random_state(1)\n",
    "indices_test = rng.permutation(len(testing_X))\n",
    "testing_X_shuffled = testing_X[indices_test]\n",
    "test_y_shuffled = test_y[indices_test]"
   ]
  },
  {
   "cell_type": "code",
   "execution_count": 33,
   "metadata": {},
   "outputs": [],
   "source": [
    "# Create batches of data for training\n",
    "def create_batch (batch_size):\n",
    "  anchors = np.zeros((batch_size, 80))\n",
    "  positives = np.zeros((batch_size, 80))\n",
    "  negatives = np.zeros((batch_size, 80))\n",
    "\n",
    "  for i in range(0,batch_size):\n",
    "    index = random.randint(0,len(train_jets_t)-1)\n",
    "    anc = training_X[index]\n",
    "    y = train_y[index]\n",
    "\n",
    "    indices_for_pos = np.squeeze(np.where(train_y == y))\n",
    "    indices_for_neg = np.squeeze(np.where(train_y != y))\n",
    "\n",
    "    pos = training_X[indices_for_pos[random.randint(0,len(indices_for_pos)-1)]]\n",
    "    neg = training_X[indices_for_neg[random.randint(0,len(indices_for_neg)-1)]]\n",
    "\n",
    "    anchors[i] = anc\n",
    "    positives[i] = pos\n",
    "    negatives[i] = neg\n",
    "\n",
    "    return [anchors, positives, negatives]"
   ]
  },
  {
   "cell_type": "code",
   "execution_count": 54,
   "metadata": {},
   "outputs": [],
   "source": [
    "# Defining Sampling function\n",
    "encoding_dim = 64\n",
    "def sampling(args):\n",
    "    mu, sigma = args\n",
    "    batch     = tf.shape(mu)[0]\n",
    "    dim       = tf.shape(mu)[1]\n",
    "    eps       = tf.keras.backend.random_normal(shape=(batch, dim))\n",
    "    return mu + tf.exp(sigma / 2) * eps"
   ]
  },
  {
   "cell_type": "code",
   "execution_count": 55,
   "metadata": {},
   "outputs": [],
   "source": [
    "# Defining Encoder\n",
    "class Encoder(Model):\n",
    "    def __init__(self, **kwargs):\n",
    "        super(Encoder, self).__init__(**kwargs)\n",
    "        self.layer_1 = Dense(256, activation=\"relu\")\n",
    "        self.layer_2 = Dense(128, activation=\"relu\")\n",
    "        self.layer_3 = Dense(64, activation=\"relu\")\n",
    "    \n",
    "    def call(self,inputs):\n",
    "        x = self.layer_1(inputs)\n",
    "        x = self.layer_2(x)\n",
    "        x = self.layer_3(x)\n",
    "        self.mean = Dense(encoding_dim, name=\"z_mean\")(x)\n",
    "        self.log_var = Dense(encoding_dim, name=\"z_log_var\")(x)\n",
    "        self.z = Lambda(sampling, output_shape=(encoding_dim,), name='z')([self.mean, self.log_var])\n",
    "        return self.z, self.mean, self.log_var"
   ]
  },
  {
   "cell_type": "code",
   "execution_count": 56,
   "metadata": {},
   "outputs": [],
   "source": [
    "# Defining Decoder\n",
    "class Decoder(Model):\n",
    "    def __init__(self, **kwargs):\n",
    "        super(Decoder, self).__init__(**kwargs)\n",
    "        self.layer_1 = Dense(128, activation=\"relu\")\n",
    "        self.layer_2 = Dense(256, activation=\"relu\")\n",
    "        self.layer_3 = Dense(80, activation=\"sigmoid\")\n",
    "        \n",
    "    def call(self,inputs):\n",
    "        x = self.layer_1(inputs)\n",
    "        x = self.layer_2(x)\n",
    "        output = self.layer_3(x)\n",
    "        return output"
   ]
  },
  {
   "cell_type": "code",
   "execution_count": 57,
   "metadata": {},
   "outputs": [],
   "source": [
    "# kl divergence loss\n",
    "# https://keras.io/examples/generative/vae/\n",
    "\n",
    "def kl_reconstruction_loss(x, recon_x, mu, log_var):\n",
    "    reco_loss = tf.reduce_sum(tf.pow(x - recon_x,2), axis= -1)\n",
    "    kl_loss = 1 + log_var - tf.square(mu) - tf.exp(log_var)\n",
    "    kl_loss = tf.reduce_sum(kl_loss, axis= -1)\n",
    "    kl_loss *= -0.5\n",
    "    return tf.reduce_mean(reco_loss + kl_loss)"
   ]
  },
  {
   "cell_type": "code",
   "execution_count": 58,
   "metadata": {},
   "outputs": [],
   "source": [
    "# Defining model parameters\n",
    "batch_size= 600\n",
    "steps = int(len(train_jets_t)/batch_size)\n",
    "encoded = Encoder()\n",
    "decoded = Decoder()\n",
    "alpha = 0.2\n",
    "optimizer = tf.keras.optimizers.Adam(lr=0.0001,clipvalue=0.5)"
   ]
  },
  {
   "cell_type": "code",
   "execution_count": 59,
   "metadata": {},
   "outputs": [],
   "source": [
    "anc, pos, neg = create_batch (batch_size)"
   ]
  },
  {
   "cell_type": "code",
   "execution_count": 60,
   "metadata": {},
   "outputs": [
    {
     "data": {
      "text/plain": [
       "(600, 80)"
      ]
     },
     "execution_count": 60,
     "metadata": {},
     "output_type": "execute_result"
    }
   ],
   "source": [
    "anc.shape"
   ]
  },
  {
   "cell_type": "code",
   "execution_count": 61,
   "metadata": {},
   "outputs": [
    {
     "name": "stdout",
     "output_type": "stream",
     "text": [
      "Start of epoch 0\n",
      "WARNING:tensorflow:Layer encoder_1 is casting an input tensor from dtype float64 to the layer's dtype of float32, which is new behavior in TensorFlow 2.  The layer has dtype float32 because its dtype defaults to floatx.\n",
      "\n",
      "If you intended to run this layer in float32, you can safely ignore this warning. If in doubt, this warning is likely only an issue if you are porting a TensorFlow 1.X model to TensorFlow 2.\n",
      "\n",
      "To change all layers to have dtype float64 by default, call `tf.keras.backend.set_floatx('float64')`. To change just this layer, pass dtype='float64' to the layer constructor. If you are the author of this layer, you can disable autocasting by passing autocast=False to the base Layer constructor.\n",
      "\n",
      "epochs_train_losses: tf.Tensor(32.65507, shape=(), dtype=float32)  epochs_triplet_losses: tf.Tensor(26.913712, shape=(), dtype=float32)\n",
      "Start of epoch 1\n",
      "epochs_train_losses: tf.Tensor(3.6752784, shape=(), dtype=float32)  epochs_triplet_losses: tf.Tensor(2.680889, shape=(), dtype=float32)\n",
      "Start of epoch 2\n",
      "epochs_train_losses: tf.Tensor(2.1379068, shape=(), dtype=float32)  epochs_triplet_losses: tf.Tensor(1.0968822, shape=(), dtype=float32)\n",
      "Start of epoch 3\n",
      "epochs_train_losses: tf.Tensor(1.4310323, shape=(), dtype=float32)  epochs_triplet_losses: tf.Tensor(0.4912477, shape=(), dtype=float32)\n",
      "Start of epoch 4\n",
      "epochs_train_losses: tf.Tensor(1.275662, shape=(), dtype=float32)  epochs_triplet_losses: tf.Tensor(0.36062118, shape=(), dtype=float32)\n",
      "Start of epoch 5\n",
      "epochs_train_losses: tf.Tensor(1.2149287, shape=(), dtype=float32)  epochs_triplet_losses: tf.Tensor(0.2779994, shape=(), dtype=float32)\n",
      "Start of epoch 6\n",
      "epochs_train_losses: tf.Tensor(1.1826109, shape=(), dtype=float32)  epochs_triplet_losses: tf.Tensor(0.25192404, shape=(), dtype=float32)\n",
      "Start of epoch 7\n",
      "epochs_train_losses: tf.Tensor(1.2320805, shape=(), dtype=float32)  epochs_triplet_losses: tf.Tensor(0.2301537, shape=(), dtype=float32)\n",
      "Start of epoch 8\n",
      "epochs_train_losses: tf.Tensor(1.2522014, shape=(), dtype=float32)  epochs_triplet_losses: tf.Tensor(0.22509329, shape=(), dtype=float32)\n",
      "Start of epoch 9\n",
      "epochs_train_losses: tf.Tensor(1.4284825, shape=(), dtype=float32)  epochs_triplet_losses: tf.Tensor(0.23338412, shape=(), dtype=float32)\n",
      "Start of epoch 10\n",
      "epochs_train_losses: tf.Tensor(1.2384465, shape=(), dtype=float32)  epochs_triplet_losses: tf.Tensor(0.21323942, shape=(), dtype=float32)\n",
      "Start of epoch 11\n",
      "epochs_train_losses: tf.Tensor(1.1300973, shape=(), dtype=float32)  epochs_triplet_losses: tf.Tensor(0.21659572, shape=(), dtype=float32)\n",
      "Start of epoch 12\n",
      "epochs_train_losses: tf.Tensor(1.1451597, shape=(), dtype=float32)  epochs_triplet_losses: tf.Tensor(0.20611344, shape=(), dtype=float32)\n",
      "Start of epoch 13\n",
      "epochs_train_losses: tf.Tensor(1.287203, shape=(), dtype=float32)  epochs_triplet_losses: tf.Tensor(0.2041562, shape=(), dtype=float32)\n",
      "Start of epoch 14\n",
      "epochs_train_losses: tf.Tensor(1.237082, shape=(), dtype=float32)  epochs_triplet_losses: tf.Tensor(0.2031684, shape=(), dtype=float32)\n",
      "Start of epoch 15\n",
      "epochs_train_losses: tf.Tensor(1.2125528, shape=(), dtype=float32)  epochs_triplet_losses: tf.Tensor(0.20150018, shape=(), dtype=float32)\n",
      "Start of epoch 16\n",
      "epochs_train_losses: tf.Tensor(1.1956158, shape=(), dtype=float32)  epochs_triplet_losses: tf.Tensor(0.20209312, shape=(), dtype=float32)\n",
      "Start of epoch 17\n",
      "epochs_train_losses: tf.Tensor(1.2103081, shape=(), dtype=float32)  epochs_triplet_losses: tf.Tensor(0.20850262, shape=(), dtype=float32)\n",
      "Start of epoch 18\n",
      "epochs_train_losses: tf.Tensor(1.1696607, shape=(), dtype=float32)  epochs_triplet_losses: tf.Tensor(0.2045213, shape=(), dtype=float32)\n",
      "Start of epoch 19\n",
      "epochs_train_losses: tf.Tensor(1.1240431, shape=(), dtype=float32)  epochs_triplet_losses: tf.Tensor(0.20148684, shape=(), dtype=float32)\n"
     ]
    }
   ],
   "source": [
    "epochs = 20\n",
    "epochs_train_losses = []\n",
    "epochs_triplet_losses = []\n",
    "for epoch in range(epochs):\n",
    "    print('Start of epoch',epoch)\n",
    "    losses = []\n",
    "    triplet_losses = []\n",
    "    for step in range(0,steps):\n",
    "        #print('Step: ', step)\n",
    "        anc, pos, neg = create_batch (batch_size)\n",
    "        anc_pos = np.concatenate((anc,pos), axis = 0)\n",
    "        #print(\"anc.shape:\",anc.shape)\n",
    "        #print(\"pos.shape:\",pos.shape)\n",
    "        #print(\"neg.shape:\",neg.shape)\n",
    "        with tf.GradientTape() as tape:\n",
    "            latent_anc,mean_anc,log_var_anc = encoded(anc)\n",
    "            latent_pos,mean_pos,log_var_pos = encoded(pos)\n",
    "            latent_neg,mean_neg,log_var_neg = encoded(neg)\n",
    "            latent_anc_pos = np.concatenate((latent_anc,latent_pos), axis = 0)\n",
    "            mean_anc_pos = np.concatenate((mean_anc,mean_pos), axis = 0)\n",
    "            log_var_anc_pos = np.concatenate((log_var_anc,log_var_pos), axis = 0)\n",
    "            menu = tf.reduce_max(tf.reduce_sum(tf.square(mean_anc - mean_pos), axis = -1))\n",
    "            #print(\"shape menu:\",menu)\n",
    "            #dp = tf.reduce_mean(tf.reduce_sum(tf.square(mean_anc - mean_pos), axis = -1))\n",
    "            #print(\"dp:\",dp)\n",
    "            dn = tf.reduce_mean(tf.reduce_sum(tf.square(mean_anc - mean_neg), axis = -1))\n",
    "            triplet_loss = tf.maximum(menu-dn+alpha, 0.)\n",
    "            reconstructed_anc_pos = decoded(latent_anc_pos)\n",
    "            #reconstructed_p = decoder(mean_pos)\n",
    "            loss = triplet_loss\n",
    "            loss+= kl_reconstruction_loss(anc_pos, reconstructed_anc_pos, mean_anc_pos, log_var_anc_pos)\n",
    "            tvae_weights = encoded.trainable_weights + decoded.trainable_weights\n",
    "        gradients = tape.gradient(loss, tvae_weights)\n",
    "        # Calculate gradients\n",
    "        optimizer.apply_gradients(zip(gradients, tvae_weights))\n",
    "        losses.append(loss)\n",
    "        triplet_losses.append(triplet_loss)\n",
    "    #print(\"losses: \", len(losses))\n",
    "    epochs_train_losses.append(tf.reduce_mean(losses))\n",
    "    epochs_triplet_losses.append(tf.reduce_mean(triplet_losses))\n",
    "    print(\"epochs_train_losses:\", epochs_train_losses[epoch],\" epochs_triplet_losses:\", epochs_triplet_losses[epoch])"
   ]
  },
  {
   "cell_type": "code",
   "execution_count": 62,
   "metadata": {},
   "outputs": [
    {
     "data": {
      "text/plain": [
       "<function matplotlib.pyplot.show(*args, **kw)>"
      ]
     },
     "execution_count": 62,
     "metadata": {},
     "output_type": "execute_result"
    },
    {
     "data": {
      "image/png": "[encoded data removed]",
      "text/plain": [
       "<Figure size 432x288 with 1 Axes>"
      ]
     },
     "metadata": {
      "needs_background": "light"
     },
     "output_type": "display_data"
    }
   ],
   "source": [
    "plt.plot(epochs_train_losses)\n",
    "plt.show"
   ]
  },
  {
   "cell_type": "code",
   "execution_count": 63,
   "metadata": {},
   "outputs": [
    {
     "data": {
      "text/plain": [
       "<function matplotlib.pyplot.show(*args, **kw)>"
      ]
     },
     "execution_count": 63,
     "metadata": {},
     "output_type": "execute_result"
    },
    {
     "data": {
      "image/png": "[encoded data removed]",
      "text/plain": [
       "<Figure size 432x288 with 1 Axes>"
      ]
     },
     "metadata": {
      "needs_background": "light"
     },
     "output_type": "display_data"
    }
   ],
   "source": [
    "plt.plot(epochs_triplet_losses)\n",
    "plt.show"
   ]
  },
  {
   "cell_type": "code",
   "execution_count": 64,
   "metadata": {},
   "outputs": [
    {
     "data": {
      "text/plain": [
       "(195158, 80)"
      ]
     },
     "execution_count": 64,
     "metadata": {},
     "output_type": "execute_result"
    }
   ],
   "source": [
    "testing_X_shuffled.shape"
   ]
  },
  {
   "cell_type": "code",
   "execution_count": 65,
   "metadata": {},
   "outputs": [],
   "source": [
    "test_latent, _, _ = encoded(testing_X_shuffled)"
   ]
  },
  {
   "cell_type": "code",
   "execution_count": 66,
   "metadata": {},
   "outputs": [],
   "source": [
    "test_decoded = decoded(test_latent)"
   ]
  },
  {
   "cell_type": "code",
   "execution_count": 67,
   "metadata": {},
   "outputs": [
    {
     "data": {
      "text/plain": [
       "TensorShape([195158, 80])"
      ]
     },
     "execution_count": 67,
     "metadata": {},
     "output_type": "execute_result"
    }
   ],
   "source": [
    "test_decoded.shape"
   ]
  },
  {
   "cell_type": "code",
   "execution_count": 68,
   "metadata": {},
   "outputs": [],
   "source": [
    "test_data = test_decoded.numpy()"
   ]
  },
  {
   "cell_type": "code",
   "execution_count": 69,
   "metadata": {},
   "outputs": [
    {
     "data": {
      "text/plain": [
       "(195158, 80)"
      ]
     },
     "execution_count": 69,
     "metadata": {},
     "output_type": "execute_result"
    }
   ],
   "source": [
    "test_data.shape"
   ]
  },
  {
   "cell_type": "code",
   "execution_count": 70,
   "metadata": {},
   "outputs": [],
   "source": [
    "predict_loss= np.mean(np.power(testing_X_shuffled - test_data, 2), axis=1)"
   ]
  },
  {
   "cell_type": "code",
   "execution_count": 71,
   "metadata": {},
   "outputs": [
    {
     "data": {
      "text/plain": [
       "(195158,)"
      ]
     },
     "execution_count": 71,
     "metadata": {},
     "output_type": "execute_result"
    }
   ],
   "source": [
    "predict_loss.shape"
   ]
  },
  {
   "cell_type": "code",
   "execution_count": 72,
   "metadata": {
    "scrolled": true
   },
   "outputs": [
    {
     "data": {
      "image/png": "[encoded data removed]",
      "text/plain": [
       "<Figure size 432x288 with 1 Axes>"
      ]
     },
     "metadata": {
      "needs_background": "light"
     },
     "output_type": "display_data"
    }
   ],
   "source": [
    "l_rec_0=[]\n",
    "l_rec_1=[]\n",
    "\n",
    "for i in range(10000):\n",
    "    if test_y_shuffled[i]==0:\n",
    "        l_rec_0.append(predict_loss[i])\n",
    "    else:\n",
    "        l_rec_1.append(predict_loss[i])\n",
    "\n",
    "l_rec_0=np.array(l_rec_0)\n",
    "l_rec_1=np.array(l_rec_1)\n",
    "plt.hist(l_rec_0, histtype=\"step\", label='QCD',density=True)\n",
    "plt.hist(l_rec_1, histtype='step', label='Top',density=True)\n",
    "plt.legend(loc='best')\n",
    "plt.yscale(\"log\")\n",
    "plt.title('TVAE ($D_{in}$=80)')\n",
    "plt.xlabel('$L_{rec}$ (scaled)')\n",
    "plt.show()"
   ]
  },
  {
   "cell_type": "code",
   "execution_count": 73,
   "metadata": {},
   "outputs": [
    {
     "name": "stderr",
     "output_type": "stream",
     "text": [
      "/lcg/storage15/software64/anaconda3/lib/python3.7/site-packages/ipykernel_launcher.py:7: RuntimeWarning: divide by zero encountered in true_divide\n",
      "  import sys\n",
      "No handles with labels found to put in legend.\n"
     ]
    },
    {
     "name": "stdout",
     "output_type": "stream",
     "text": [
      "roc_auc = 0.8420383751919704\n"
     ]
    },
    {
     "data": {
      "image/png": "[encoded data removed]",
      "text/plain": [
       "<Figure size 432x288 with 1 Axes>"
      ]
     },
     "metadata": {
      "needs_background": "light"
     },
     "output_type": "display_data"
    }
   ],
   "source": [
    "from sklearn.metrics import roc_curve\n",
    "from sklearn.metrics import roc_auc_score\n",
    "\n",
    "fpr, tpr, thrs = roc_curve(test_y_shuffled, predict_loss)\n",
    "print(\"roc_auc =\", roc_auc_score(test_y_shuffled, predict_loss))\n",
    "#plt.plot(fpr, tpr, label=\"%s\" % filename)\n",
    "plt.plot(tpr, 1. / fpr, label=\"\")\n",
    "\n",
    "plt.xlim(0.1, 1.0)\n",
    "plt.ylim(1, 500)\n",
    "plt.yscale(\"log\")\n",
    "plt.title('TVAE ($D_{in}$=80)')\n",
    "plt.grid()\n",
    "plt.xlabel(\"$\\epsilon_S$\")\n",
    "plt.ylabel(\"$1/\\epsilon_B$\")\n",
    "plt.legend(loc=\"best\")\n",
    "plt.show()"
   ]
  },
  {
   "cell_type": "code",
   "execution_count": null,
   "metadata": {},
   "outputs": [],
   "source": []
  }
 ],
 "metadata": {
  "kernelspec": {
   "display_name": "Python 3",
   "language": "python",
   "name": "python3"
  },
  "language_info": {
   "codemirror_mode": {
    "name": "ipython",
    "version": 3
   },
   "file_extension": ".py",
   "mimetype": "text/x-python",
   "name": "python",
   "nbconvert_exporter": "python",
   "pygments_lexer": "ipython3",
   "version": "3.7.9"
  }
 },
 "nbformat": 4,
 "nbformat_minor": 2
}
