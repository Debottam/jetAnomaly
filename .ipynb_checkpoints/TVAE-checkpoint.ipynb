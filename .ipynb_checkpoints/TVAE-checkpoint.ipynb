{
 "cells": [
  {
   "cell_type": "code",
   "execution_count": 2,
   "metadata": {},
   "outputs": [
    {
     "name": "stderr",
     "output_type": "stream",
     "text": [
      "Using TensorFlow backend.\n"
     ]
    }
   ],
   "source": [
    "import numpy as np\n",
    "import os\n",
    "os.environ[\"KERAS_BACKEND\"] = \"tensorflow\"\n",
    "import h5py\n",
    "import pickle\n",
    "import pandas\n",
    "import matplotlib.pyplot as plt\n",
    "#import deepdish.io as io\n",
    "#import tensorflow as tf\n",
    "import tensorflow as tf\n",
    "from tensorflow import keras\n",
    "from tensorflow.keras import layers\n",
    "#from keras.models import Model,Sequential\n",
    "#from keras.layers import Input, Dense, Dropout, Layer\n",
    "#from keras.utils import plot_model\n",
    "#from keras.models import load_model\n",
    "from sklearn.preprocessing import scale, normalize\n",
    "from sklearn.preprocessing import RobustScaler, StandardScaler\n",
    "from sklearn.model_selection import train_test_split\n",
    "from sklearn.utils import check_random_state\n",
    "import random\n",
    "from pca_plotter import PCAPlotter\n",
    "from sklearn.metrics import roc_auc_score, roc_curve\n",
    "from keras.optimizers import Adam"
   ]
  },
  {
   "cell_type": "code",
   "execution_count": 3,
   "metadata": {},
   "outputs": [],
   "source": [
    "class Tripletnet(keras.Model):\n",
    "    def __init__(self, embeddingnet):\n",
    "        super(Tripletnet, self).__init__()\n",
    "        self.embeddingnet = embeddingnet\n",
    "\n",
    "    def forward(self, x, y, z):\n",
    "        latent_x,mean_x,logvar_x = self.embeddingnet(x)\n",
    "        latent_y,mean_y,logvar_y = self.embeddingnet(y)\n",
    "        latent_z,mean_z,logvar_z = self.embeddingnet(z)\n",
    "        dist_a = tf.reduce_mean(tf.square(mean_x - mean_y), axis=1)\n",
    "        dist_b = tf.reduce_mean(tf.square(mean_x - mean_z), axis=1)\n",
    "        return latent_x,mean_x,logvar_x,\\\n",
    "            latent_y,mean_y,logvar_y,\\\n",
    "            latent_z,mean_z,logvar_z,\\\n",
    "            dist_a, dist_b\n"
   ]
  },
  {
   "cell_type": "code",
   "execution_count": 4,
   "metadata": {},
   "outputs": [],
   "source": [
    "def sampling(args):\n",
    "    mu, sigma = args\n",
    "    batch     = tf.shape(mu)[0]\n",
    "    dim       = tf.shape(mu)[1]\n",
    "    eps       = tf.keras.backend.random_normal(shape=(batch, dim))\n",
    "    return mu + tf.exp(sigma / 2) * eps"
   ]
  },
  {
   "cell_type": "code",
   "execution_count": 27,
   "metadata": {},
   "outputs": [],
   "source": [
    "class _Encoder(keras.Model):\n",
    "    def __init__(self, input_dim, encoding_dim):\n",
    "        super(_Encoder, self).__init__()\n",
    "        self.input_dim = input_dim\n",
    "        self.encoding_dim = encoding_dim\n",
    "        self.Input = keras.Input(shape =(self.input_dim,))\n",
    "        self.layer_1 = layers.Dense(256, activation=\"relu\")\n",
    "        self.layer_2 = layers.Dense(128, activation=\"relu\")\n",
    "        self.layer_3 = layers.Dense(64, activation=\"relu\")\n",
    "    \n",
    "    def call(self):\n",
    "        x = self.layer_1(self.Input)\n",
    "        x = self.layer_2(x)\n",
    "        x = self.layer_3(x)\n",
    "        self.mean = layers.Dense(self.encoding_dim, name=\"z_mean\")(x)\n",
    "        self.log_var = layers.Dense(self.encoding_dim, name=\"z_log_var\")(x)\n",
    "        self.z = layers.Lambda(sampling, output_shape=(self.encoding_dim,), name='z')([self.mean, self.log_var])\n",
    "        return self.z, self.mean, self.log_var"
   ]
  },
  {
   "cell_type": "code",
   "execution_count": 7,
   "metadata": {},
   "outputs": [],
   "source": [
    "class _Decoder(keras.Model):\n",
    "    def __init__(self, encoding_dim):\n",
    "        super(_Decoder, self).__init__()\n",
    "        self.encoding_dim = encoding_dim\n",
    "        self.Input = keras.Input(shape=(self.encoding_dim,), name='z_sampling')\n",
    "        self.layer_1 = layers.Dense(64, activation=\"relu\")\n",
    "        self.layer_2 = layers.Dense(128, activation=\"relu\")\n",
    "        self.layer_3 = layers.Dense(256, activation=\"relu\")\n",
    "        \n",
    "    def call(self):\n",
    "        x = self.layer_1(self.Input)\n",
    "        x = self.layer_2(x)\n",
    "        output = self.layer_3(x)\n",
    "        return output"
   ]
  },
  {
   "cell_type": "code",
   "execution_count": 28,
   "metadata": {},
   "outputs": [],
   "source": [
    "def kl_reconstruction_loss(inputs, outputs):\n",
    "  # Reconstruction loss\n",
    "  reconstruction_loss = binary_crossentropy(inputs, outputs) *original_dim\n",
    "  # KL divergence loss\n",
    "  kl_loss = 1 + z_log_var - K.square(z_mean) - K.exp(z_log_var)\n",
    "  kl_loss = K.sum(kl_loss, axis=-1)\n",
    "  kl_loss *= -0.5\n",
    "  # Total loss = 50% rec + 50% KL divergence loss\n",
    "  return K.mean(reconstruction_loss + kl_loss)"
   ]
  },
  {
   "cell_type": "code",
   "execution_count": 29,
   "metadata": {},
   "outputs": [
    {
     "ename": "ValueError",
     "evalue": "You can only call `build` on a model if its `call` method accepts an `inputs` argument.",
     "output_type": "error",
     "traceback": [
      "\u001b[0;31m---------------------------------------------------------------------------\u001b[0m",
      "\u001b[0;31mValueError\u001b[0m                                Traceback (most recent call last)",
      "\u001b[0;32m<ipython-input-29-769d51920f42>\u001b[0m in \u001b[0;36m<module>\u001b[0;34m\u001b[0m\n\u001b[0;32m----> 1\u001b[0;31m \u001b[0mencoder\u001b[0m\u001b[0;34m.\u001b[0m\u001b[0mbuild\u001b[0m\u001b[0;34m(\u001b[0m\u001b[0;34m(\u001b[0m\u001b[0;36m80\u001b[0m\u001b[0;34m,\u001b[0m\u001b[0;34m)\u001b[0m\u001b[0;34m)\u001b[0m\u001b[0;34m\u001b[0m\u001b[0;34m\u001b[0m\u001b[0m\n\u001b[0m\u001b[1;32m      2\u001b[0m \u001b[0mencoder\u001b[0m\u001b[0;34m.\u001b[0m\u001b[0msummary\u001b[0m\u001b[0;34m(\u001b[0m\u001b[0;34m)\u001b[0m\u001b[0;34m\u001b[0m\u001b[0;34m\u001b[0m\u001b[0m\n",
      "\u001b[0;32m/export/home/zp/gupta/envTf2/lib/python3.7/site-packages/tensorflow_core/python/keras/engine/network.py\u001b[0m in \u001b[0;36mbuild\u001b[0;34m(self, input_shape)\u001b[0m\n\u001b[1;32m    677\u001b[0m         \u001b[0;32melif\u001b[0m \u001b[0mlen\u001b[0m\u001b[0;34m(\u001b[0m\u001b[0mcall_args\u001b[0m\u001b[0;34m)\u001b[0m \u001b[0;34m<\u001b[0m \u001b[0;36m2\u001b[0m\u001b[0;34m:\u001b[0m\u001b[0;34m\u001b[0m\u001b[0;34m\u001b[0m\u001b[0m\n\u001b[1;32m    678\u001b[0m           \u001b[0;31m# Signature without `inputs`.\u001b[0m\u001b[0;34m\u001b[0m\u001b[0;34m\u001b[0m\u001b[0;34m\u001b[0m\u001b[0m\n\u001b[0;32m--> 679\u001b[0;31m           raise ValueError('You can only call `build` on a model if its `call` '\n\u001b[0m\u001b[1;32m    680\u001b[0m                            'method accepts an `inputs` argument.')\n\u001b[1;32m    681\u001b[0m         \u001b[0;32mtry\u001b[0m\u001b[0;34m:\u001b[0m\u001b[0;34m\u001b[0m\u001b[0;34m\u001b[0m\u001b[0m\n",
      "\u001b[0;31mValueError\u001b[0m: You can only call `build` on a model if its `call` method accepts an `inputs` argument."
     ]
    }
   ],
   "source": [
    "encoder.build((80,))\n",
    "encoder.summary()"
   ]
  },
  {
   "cell_type": "code",
   "execution_count": null,
   "metadata": {},
   "outputs": [],
   "source": []
  }
 ],
 "metadata": {
  "kernelspec": {
   "display_name": "envTf2",
   "language": "python",
   "name": "envtf2"
  },
  "language_info": {
   "codemirror_mode": {
    "name": "ipython",
    "version": 3
   },
   "file_extension": ".py",
   "mimetype": "text/x-python",
   "name": "python",
   "nbconvert_exporter": "python",
   "pygments_lexer": "ipython3",
   "version": "3.7.1"
  }
 },
 "nbformat": 4,
 "nbformat_minor": 2
}
