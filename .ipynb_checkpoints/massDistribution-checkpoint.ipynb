{
 "cells": [
  {
   "cell_type": "code",
   "execution_count": 48,
   "metadata": {},
   "outputs": [],
   "source": [
    "import numpy as np\n",
    "import os\n",
    "os.environ[\"KERAS_BACKEND\"] = \"tensorflow\"\n",
    "import h5py\n",
    "import pickle\n",
    "import pandas\n",
    "import matplotlib.pyplot as plt\n",
    "#import deepdish.io as io\n",
    "import tensorflow as tf\n",
    "from keras.models import Model,Sequential\n",
    "from keras.layers import Input, Dense, Dropout\n",
    "from keras.utils import plot_model\n",
    "from keras.models import load_model\n",
    "from sklearn.preprocessing import scale, normalize\n",
    "from sklearn.preprocessing import RobustScaler, StandardScaler\n",
    "from sklearn.model_selection import train_test_split\n",
    "from sklearn.utils import check_random_state\n",
    "import seaborn as sns"
   ]
  },
  {
   "cell_type": "code",
   "execution_count": 4,
   "metadata": {},
   "outputs": [],
   "source": [
    "f_qcdmass=h5py.File('/lcg/storage13/atlas/martinj/h5/pp_jj/final_jj_1MEvents.h5','r')"
   ]
  },
  {
   "cell_type": "code",
   "execution_count": 5,
   "metadata": {},
   "outputs": [],
   "source": [
    "qcd_mass = f_qcdmass[\"objects/jets/obs\"][:,0]"
   ]
  },
  {
   "cell_type": "code",
   "execution_count": 6,
   "metadata": {},
   "outputs": [
    {
     "data": {
      "text/plain": [
       "(705643, 9)"
      ]
     },
     "execution_count": 6,
     "metadata": {},
     "output_type": "execute_result"
    }
   ],
   "source": [
    "qcd_mass.shape"
   ]
  },
  {
   "cell_type": "code",
   "execution_count": 7,
   "metadata": {},
   "outputs": [
    {
     "data": {
      "text/plain": [
       "array([727.78908448,  -1.65506998,   1.00065047,  95.95585166,\n",
       "        29.31041336,  21.55031967,  14.1101923 ,  10.8286705 ,\n",
       "         9.35908318])"
      ]
     },
     "execution_count": 7,
     "metadata": {},
     "output_type": "execute_result"
    }
   ],
   "source": [
    "qcd_mass[1]"
   ]
  },
  {
   "cell_type": "code",
   "execution_count": 8,
   "metadata": {},
   "outputs": [],
   "source": [
    "qcd_mass = qcd_mass[:,3]"
   ]
  },
  {
   "cell_type": "code",
   "execution_count": 9,
   "metadata": {},
   "outputs": [
    {
     "data": {
      "text/plain": [
       "95.95585166414908"
      ]
     },
     "execution_count": 9,
     "metadata": {},
     "output_type": "execute_result"
    }
   ],
   "source": [
    "qcd_mass[1]"
   ]
  },
  {
   "cell_type": "code",
   "execution_count": 51,
   "metadata": {},
   "outputs": [
    {
     "data": {
      "image/png": "[encoded data removed]",
      "text/plain": [
       "<Figure size 432x288 with 1 Axes>"
      ]
     },
     "metadata": {
      "needs_background": "light"
     },
     "output_type": "display_data"
    }
   ],
   "source": [
    "#plt.hist(qcd_mass, histtype=\"step\", label='QCD')\n",
    "#plt.show\n",
    "sns.distplot(qcd_mass);"
   ]
  },
  {
   "cell_type": "code",
   "execution_count": 12,
   "metadata": {},
   "outputs": [],
   "source": [
    "f_ttmass=h5py.File('/lcg/storage13/atlas/martinj/h5/pp_tt/final_tt_500kEvents.h5','r')"
   ]
  },
  {
   "cell_type": "code",
   "execution_count": 13,
   "metadata": {},
   "outputs": [],
   "source": [
    "tt_mass = f_ttmass[\"objects/jets/obs\"][:,0]"
   ]
  },
  {
   "cell_type": "code",
   "execution_count": 14,
   "metadata": {},
   "outputs": [
    {
     "data": {
      "text/plain": [
       "(320124, 9)"
      ]
     },
     "execution_count": 14,
     "metadata": {},
     "output_type": "execute_result"
    }
   ],
   "source": [
    "tt_mass.shape"
   ]
  },
  {
   "cell_type": "code",
   "execution_count": 15,
   "metadata": {},
   "outputs": [],
   "source": [
    "tt_mass = tt_mass[:,3]"
   ]
  },
  {
   "cell_type": "code",
   "execution_count": 50,
   "metadata": {},
   "outputs": [
    {
     "data": {
      "image/png": "[encoded data removed]",
      "text/plain": [
       "<Figure size 432x288 with 1 Axes>"
      ]
     },
     "metadata": {
      "needs_background": "light"
     },
     "output_type": "display_data"
    }
   ],
   "source": [
    "#plt.hist(tt_mass, histtype=\"step\", label='QCD', density = 'True')\n",
    "#plt.show\n",
    "sns.distplot(tt_mass);"
   ]
  },
  {
   "cell_type": "code",
   "execution_count": 27,
   "metadata": {},
   "outputs": [],
   "source": [
    "f_zbmass = h5py.File('/lcg/storage13/atlas/gupta/stealth_boson/Zp2200-S80A15.h5','r')"
   ]
  },
  {
   "cell_type": "code",
   "execution_count": 42,
   "metadata": {},
   "outputs": [],
   "source": [
    "zb_mass = f_zbmass[\"objects/jets/obs\"][:,0]"
   ]
  },
  {
   "cell_type": "code",
   "execution_count": 43,
   "metadata": {},
   "outputs": [
    {
     "data": {
      "text/plain": [
       "(97579, 9)"
      ]
     },
     "execution_count": 43,
     "metadata": {},
     "output_type": "execute_result"
    }
   ],
   "source": [
    "zb_mass.shape"
   ]
  },
  {
   "cell_type": "code",
   "execution_count": 44,
   "metadata": {},
   "outputs": [
    {
     "data": {
      "text/plain": [
       "array([ 1.05523252e+03, -9.22374207e-01, -4.29565716e-01,  1.31561009e+02,\n",
       "        7.61385709e-02,  3.89623567e-02,  2.72625014e-02,  1.92926619e-02,\n",
       "        1.66537706e-02])"
      ]
     },
     "execution_count": 44,
     "metadata": {},
     "output_type": "execute_result"
    }
   ],
   "source": [
    "zb_mass[1]"
   ]
  },
  {
   "cell_type": "code",
   "execution_count": 45,
   "metadata": {},
   "outputs": [],
   "source": [
    "zb = zb_mass[:,3]"
   ]
  },
  {
   "cell_type": "code",
   "execution_count": 47,
   "metadata": {},
   "outputs": [
    {
     "data": {
      "text/plain": [
       "(97579,)"
      ]
     },
     "execution_count": 47,
     "metadata": {},
     "output_type": "execute_result"
    }
   ],
   "source": [
    "zb.shape"
   ]
  },
  {
   "cell_type": "code",
   "execution_count": 52,
   "metadata": {},
   "outputs": [],
   "source": [
    "#for i in range(len(zb_mass)):\n",
    " #   print(zb_mass[i])"
   ]
  },
  {
   "cell_type": "code",
   "execution_count": 49,
   "metadata": {},
   "outputs": [
    {
     "data": {
      "image/png": "[encoded data removed]",
      "text/plain": [
       "<Figure size 432x288 with 1 Axes>"
      ]
     },
     "metadata": {
      "needs_background": "light"
     },
     "output_type": "display_data"
    }
   ],
   "source": [
    "#plt.hist(zb, histtype=\"step\", label='zb')\n",
    "#plt.xlim(0,150)\n",
    "#plt.show\n",
    "sns.distplot(zb);"
   ]
  },
  {
   "cell_type": "code",
   "execution_count": 15,
   "metadata": {},
   "outputs": [],
   "source": [
    "# Loading QCD sample to use jet_pT for pT scaling\n",
    "fqcd=h5py.File('/home/zp/gupta/jetAnomaly/utils/qcd_pt_scaled.h5','r')"
   ]
  },
  {
   "cell_type": "code",
   "execution_count": 16,
   "metadata": {},
   "outputs": [
    {
     "data": {
      "text/plain": [
       "['table']"
      ]
     },
     "execution_count": 16,
     "metadata": {},
     "output_type": "execute_result"
    }
   ],
   "source": [
    "list(fqcd.keys())"
   ]
  },
  {
   "cell_type": "code",
   "execution_count": 17,
   "metadata": {},
   "outputs": [],
   "source": [
    "qcd_train_bkg = fqcd['table']"
   ]
  },
  {
   "cell_type": "code",
   "execution_count": 18,
   "metadata": {},
   "outputs": [
    {
     "data": {
      "text/plain": [
       "(705643, 868)"
      ]
     },
     "execution_count": 18,
     "metadata": {},
     "output_type": "execute_result"
    }
   ],
   "source": [
    "qcd_train_bkg.shape"
   ]
  },
  {
   "cell_type": "code",
   "execution_count": 19,
   "metadata": {},
   "outputs": [],
   "source": [
    "# Taking only 80 features to match with the model\n",
    "qcd_train_bkg=qcd_train_bkg[:,:80]\n"
   ]
  },
  {
   "cell_type": "code",
   "execution_count": 20,
   "metadata": {},
   "outputs": [
    {
     "data": {
      "text/plain": [
       "(705643, 80)"
      ]
     },
     "execution_count": 20,
     "metadata": {},
     "output_type": "execute_result"
    }
   ],
   "source": [
    "qcd_train_bkg.shape"
   ]
  },
  {
   "cell_type": "code",
   "execution_count": 21,
   "metadata": {},
   "outputs": [
    {
     "data": {
      "text/plain": [
       "(320124, 888)"
      ]
     },
     "execution_count": 21,
     "metadata": {},
     "output_type": "execute_result"
    }
   ],
   "source": [
    "# Loading ttbar sample to use jet_pT for pT scaling\n",
    "fttbar=h5py.File('/home/zp/gupta/jetAnomaly/utils/ttbar_pt_scaled.h5','r')\n",
    "ttbar_pt_scaled = fttbar['table']\n",
    "ttbar_pt_scaled.shape"
   ]
  },
  {
   "cell_type": "code",
   "execution_count": 22,
   "metadata": {},
   "outputs": [
    {
     "data": {
      "text/plain": [
       "(320124, 80)"
      ]
     },
     "execution_count": 22,
     "metadata": {},
     "output_type": "execute_result"
    }
   ],
   "source": [
    "ttbar_pt_scaled = ttbar_pt_scaled[:,:80]\n",
    "ttbar_pt_scaled.shape"
   ]
  },
  {
   "cell_type": "code",
   "execution_count": 23,
   "metadata": {},
   "outputs": [],
   "source": [
    "x_train = qcd_train_bkg\n",
    "#x_train_1 = ttbar_pt_scaled\n",
    "#x_train = np.concatenate((x_train_0, x_train_1), axis=0)\n",
    "#y_train = np.concatenate((np.zeros(len(x_train_0)), np.ones(len(x_train_1))), axis=0)"
   ]
  },
  {
   "cell_type": "code",
   "execution_count": 24,
   "metadata": {},
   "outputs": [
    {
     "data": {
      "text/plain": [
       "(705643, 80)"
      ]
     },
     "execution_count": 24,
     "metadata": {},
     "output_type": "execute_result"
    }
   ],
   "source": [
    "x_train.shape"
   ]
  },
  {
   "cell_type": "code",
   "execution_count": 145,
   "metadata": {},
   "outputs": [],
   "source": [
    "#x_train_mix = [x_train[j] for j in indices[:1025700]]\n",
    "#y_train_mix = [y_train[j] for j in indices[:1025700]]"
   ]
  },
  {
   "cell_type": "code",
   "execution_count": 25,
   "metadata": {},
   "outputs": [],
   "source": [
    "# separating train and test set\n",
    "x_train, x_test, jetMass_train, jetMass_test = train_test_split(x_train,qcd_mass,\n",
    "                                    test_size=0.3, \n",
    "                                    random_state=13)"
   ]
  },
  {
   "cell_type": "code",
   "execution_count": 26,
   "metadata": {},
   "outputs": [
    {
     "name": "stdout",
     "output_type": "stream",
     "text": [
      "train:  493950\n",
      "test:  211693\n"
     ]
    }
   ],
   "source": [
    "print(\"train: \",len(x_train))\n",
    "#print(\"valid: \",len(valid_x_train_mix))\n",
    "print(\"test: \",len(x_test))"
   ]
  },
  {
   "cell_type": "code",
   "execution_count": 27,
   "metadata": {},
   "outputs": [
    {
     "name": "stdout",
     "output_type": "stream",
     "text": [
      "train:  493950\n",
      "test:  211693\n"
     ]
    }
   ],
   "source": [
    "print(\"train: \",len(jetMass_train))\n",
    "#print(\"valid: \",len(valid_x_train_mix))\n",
    "print(\"test: \",len(jetMass_test))"
   ]
  },
  {
   "cell_type": "code",
   "execution_count": 28,
   "metadata": {},
   "outputs": [],
   "source": [
    "x_train = x_train[:493900] \n",
    "jetMass_train = jetMass_train[:493900]\n",
    "#x_test = x_test[:211600]"
   ]
  },
  {
   "cell_type": "code",
   "execution_count": 29,
   "metadata": {},
   "outputs": [
    {
     "name": "stdout",
     "output_type": "stream",
     "text": [
      "train:  493900\n",
      "test:  211693\n"
     ]
    }
   ],
   "source": [
    "print(\"train: \",len(x_train))\n",
    "#print(\"valid: \",len(valid_x_train_mix))\n",
    "print(\"test: \",len(x_test))"
   ]
  },
  {
   "cell_type": "code",
   "execution_count": 30,
   "metadata": {},
   "outputs": [],
   "source": [
    "scaler= RobustScaler().fit(x_train)"
   ]
  },
  {
   "cell_type": "code",
   "execution_count": 31,
   "metadata": {},
   "outputs": [],
   "source": [
    "fqcd.close()\n",
    "fttbar.close()\n",
    "f_qcdmass.close()\n",
    "f_ttmass.close()"
   ]
  },
  {
   "cell_type": "code",
   "execution_count": 32,
   "metadata": {},
   "outputs": [
    {
     "data": {
      "text/plain": [
       "(320124,)"
      ]
     },
     "execution_count": 32,
     "metadata": {},
     "output_type": "execute_result"
    }
   ],
   "source": [
    "tt_mass.shape"
   ]
  },
  {
   "cell_type": "code",
   "execution_count": 34,
   "metadata": {},
   "outputs": [
    {
     "data": {
      "text/plain": [
       "320124"
      ]
     },
     "execution_count": 34,
     "metadata": {},
     "output_type": "execute_result"
    }
   ],
   "source": [
    "len(ttbar_pt_scaled)"
   ]
  },
  {
   "cell_type": "code",
   "execution_count": 35,
   "metadata": {},
   "outputs": [],
   "source": [
    "x_test_mix = np.concatenate((x_test, ttbar_pt_scaled), axis=0)\n",
    "jetMass_test_mix = np.concatenate((jetMass_test, tt_mass), axis=0)\n",
    "y_test_mix = np.concatenate((np.zeros(len(x_test)), np.ones(len(ttbar_pt_scaled))), axis=0)"
   ]
  },
  {
   "cell_type": "code",
   "execution_count": 36,
   "metadata": {},
   "outputs": [
    {
     "data": {
      "text/plain": [
       "(531817,)"
      ]
     },
     "execution_count": 36,
     "metadata": {},
     "output_type": "execute_result"
    }
   ],
   "source": [
    "jetMass_test_mix.shape"
   ]
  },
  {
   "cell_type": "code",
   "execution_count": 37,
   "metadata": {},
   "outputs": [],
   "source": [
    "rng = check_random_state(1)\n",
    "indices = rng.permutation(len(x_test_mix))"
   ]
  },
  {
   "cell_type": "code",
   "execution_count": 38,
   "metadata": {},
   "outputs": [],
   "source": [
    "x_test_mix = [x_test_mix[j] for j in indices[:350000]]\n",
    "y_test_mix = [y_test_mix[j] for j in indices[:350000]]\n",
    "jetMass_test_mix = [jetMass_test_mix[j] for j in indices[:350000]]"
   ]
  },
  {
   "cell_type": "code",
   "execution_count": 39,
   "metadata": {},
   "outputs": [
    {
     "data": {
      "text/plain": [
       "(350000, 80)"
      ]
     },
     "execution_count": 39,
     "metadata": {},
     "output_type": "execute_result"
    }
   ],
   "source": [
    "x_test_mix = np.array(x_test_mix)\n",
    "x_test_mix.shape"
   ]
  },
  {
   "cell_type": "code",
   "execution_count": 40,
   "metadata": {},
   "outputs": [
    {
     "data": {
      "text/plain": [
       "(350000,)"
      ]
     },
     "execution_count": 40,
     "metadata": {},
     "output_type": "execute_result"
    }
   ],
   "source": [
    "jetMass_test_mix= np.array(jetMass_test_mix)\n",
    "jetMass_test_mix.shape"
   ]
  },
  {
   "cell_type": "code",
   "execution_count": 41,
   "metadata": {},
   "outputs": [
    {
     "data": {
      "image/png": "[encoded data removed]",
      "text/plain": [
       "<Figure size 432x288 with 1 Axes>"
      ]
     },
     "metadata": {
      "needs_background": "light"
     },
     "output_type": "display_data"
    }
   ],
   "source": [
    "l_rec_0=[]\n",
    "l_rec_1=[]\n",
    "\n",
    "for i in range(10000):\n",
    "    if y_test_mix[i]==0:\n",
    "        l_rec_0.append(jetMass_test_mix[i])\n",
    "    else:\n",
    "        l_rec_1.append(jetMass_test_mix[i])\n",
    "\n",
    "l_rec_0=np.array(l_rec_0)\n",
    "l_rec_1=np.array(l_rec_1)\n",
    "plt.hist(l_rec_0, histtype=\"step\", label='QCD', density='true')\n",
    "plt.hist(l_rec_1, histtype='step', label='Top', density='true')\n",
    "plt.legend(loc='best')\n",
    "plt.title('FCN AutoEncoder ($D_{in}$=80, $D_{hidden}$=6)')\n",
    "plt.xlabel('$L_{rec}$ (scaled)')\n",
    "plt.show()"
   ]
  },
  {
   "cell_type": "code",
   "execution_count": 42,
   "metadata": {},
   "outputs": [],
   "source": [
    "x_train=scaler.transform(x_train)\n",
    "x_test_mix=scaler.transform(x_test_mix)"
   ]
  },
  {
   "cell_type": "code",
   "execution_count": 43,
   "metadata": {},
   "outputs": [],
   "source": [
    "h5f_train_scaled = h5py.File('/home/zp/gupta/jetAnomaly/utils/train_scaled.h5', 'w')"
   ]
  },
  {
   "cell_type": "code",
   "execution_count": 44,
   "metadata": {},
   "outputs": [
    {
     "data": {
      "text/plain": [
       "<HDF5 dataset \"table\": shape (493900, 80), type \"<f8\">"
      ]
     },
     "execution_count": 44,
     "metadata": {},
     "output_type": "execute_result"
    }
   ],
   "source": [
    "h5f_train_scaled.create_dataset('table', data=x_train, compression=\"gzip\")"
   ]
  },
  {
   "cell_type": "code",
   "execution_count": 45,
   "metadata": {},
   "outputs": [],
   "source": [
    "h5f_train_scaled.close()"
   ]
  },
  {
   "cell_type": "code",
   "execution_count": 46,
   "metadata": {},
   "outputs": [],
   "source": [
    "h5f_test_scaled = h5py.File('/home/zp/gupta/jetAnomaly/utils/test_scaled.h5', 'w')\n",
    "h5f_test_scaled.create_dataset('table', data=x_test_mix, compression=\"gzip\")\n",
    "h5f_test_scaled.close()"
   ]
  },
  {
   "cell_type": "code",
   "execution_count": 47,
   "metadata": {},
   "outputs": [],
   "source": [
    "h5f_test_truth = h5py.File('/home/zp/gupta/jetAnomaly/utils/test_truth.h5', 'w')\n",
    "h5f_test_truth.create_dataset('table', data=y_test_mix, compression=\"gzip\")\n",
    "h5f_test_truth.close()"
   ]
  },
  {
   "cell_type": "code",
   "execution_count": 48,
   "metadata": {},
   "outputs": [],
   "source": [
    "h5f_jetMass_train = h5py.File('/lcg/storage13/atlas/gupta/jetMass_train.h5', 'w')\n",
    "h5f_jetMass_train.create_dataset('table', data=jetMass_train, compression=\"gzip\")\n",
    "h5f_jetMass_train.close()"
   ]
  },
  {
   "cell_type": "code",
   "execution_count": 56,
   "metadata": {},
   "outputs": [],
   "source": [
    "h5f_jetMass_test = h5py.File('/lcg/storage13/atlas/gupta/jetMass_test.h5', 'w')\n",
    "h5f_jetMass_test.create_dataset('table', data=jetMass_test_mix, compression=\"gzip\")\n",
    "h5f_jetMass_test.close()"
   ]
  },
  {
   "cell_type": "code",
   "execution_count": 57,
   "metadata": {},
   "outputs": [],
   "source": [
    "f_jetmass_test = h5py.File('/lcg/storage13/atlas/gupta/jetMass_test.h5', 'r')\n",
    "fy_test_mix = h5py.File('/home/zp/gupta/jetAnomaly/utils/test_truth.h5', 'r')"
   ]
  },
  {
   "cell_type": "code",
   "execution_count": 58,
   "metadata": {},
   "outputs": [],
   "source": [
    "jetMassTest = f_jetmass_test['table']\n",
    "y_test = fy_test_mix['table']"
   ]
  },
  {
   "cell_type": "code",
   "execution_count": 59,
   "metadata": {},
   "outputs": [
    {
     "data": {
      "image/png": "[encoded data removed]",
      "text/plain": [
       "<Figure size 432x288 with 1 Axes>"
      ]
     },
     "metadata": {
      "needs_background": "light"
     },
     "output_type": "display_data"
    }
   ],
   "source": [
    "l_rec_0=[]\n",
    "l_rec_1=[]\n",
    "\n",
    "for i in range(10000):\n",
    "    if y_test[i]==0:\n",
    "        l_rec_0.append(jetMassTest[i])\n",
    "    else:\n",
    "        l_rec_1.append(jetMassTest[i])\n",
    "\n",
    "l_rec_0=np.array(l_rec_0)\n",
    "l_rec_1=np.array(l_rec_1)\n",
    "plt.hist(l_rec_0, histtype=\"step\", label='QCD', density='true')\n",
    "plt.hist(l_rec_1, histtype='step', label='Top', density='true')\n",
    "plt.legend(loc='best')\n",
    "plt.title('FCN AutoEncoder ($D_{in}$=80, $D_{hidden}$=6)')\n",
    "plt.xlabel('$L_{rec}$ (scaled)')\n",
    "plt.show()"
   ]
  },
  {
   "cell_type": "code",
   "execution_count": 60,
   "metadata": {},
   "outputs": [],
   "source": [
    "f_jetmass_test.close()\n",
    "fy_test_mix.close()"
   ]
  },
  {
   "cell_type": "code",
   "execution_count": 61,
   "metadata": {},
   "outputs": [],
   "source": [
    "ftrain = h5py.File('/home/zp/gupta/jetAnomaly/utils/train_scaled.h5','r')\n",
    "ftest = h5py.File('/home/zp/gupta/jetAnomaly/utils/test_scaled.h5','r')"
   ]
  },
  {
   "cell_type": "code",
   "execution_count": 62,
   "metadata": {},
   "outputs": [],
   "source": [
    "x_train = ftrain['table']\n",
    "x_test_mix = ftest['table']"
   ]
  },
  {
   "cell_type": "code",
   "execution_count": 63,
   "metadata": {},
   "outputs": [
    {
     "data": {
      "text/plain": [
       "(350000, 80)"
      ]
     },
     "execution_count": 63,
     "metadata": {},
     "output_type": "execute_result"
    }
   ],
   "source": [
    "x_test_mix.shape"
   ]
  },
  {
   "cell_type": "code",
   "execution_count": 68,
   "metadata": {},
   "outputs": [],
   "source": [
    "encoded_x_train_mid = encoder.predict(x_train, batch_size=100)\n",
    "encoded_x_test_mid = encoder.predict(x_test_mix, batch_size=100)"
   ]
  },
  {
   "cell_type": "code",
   "execution_count": 69,
   "metadata": {},
   "outputs": [],
   "source": [
    "encoded_x_train_mid = np.array(encoded_x_train_mid)\n",
    "encoded_x_test_mid = np.array(encoded_x_test_mid)"
   ]
  },
  {
   "cell_type": "code",
   "execution_count": 70,
   "metadata": {},
   "outputs": [],
   "source": [
    "h5f_encoded_x_train_mid = h5py.File('/lcg/storage13/atlas/gupta/encoded_x_train_mid.h5', 'w')\n",
    "h5f_encoded_x_train_mid.create_dataset('table', data=encoded_x_train_mid, compression=\"gzip\")\n",
    "h5f_encoded_x_train_mid.close()"
   ]
  },
  {
   "cell_type": "code",
   "execution_count": 71,
   "metadata": {},
   "outputs": [],
   "source": [
    "h5f_encoded_x_test_mid = h5py.File('/lcg/storage13/atlas/gupta/encoded_x_test_mid.h5', 'w')\n",
    "h5f_encoded_x_test_mid.create_dataset('table', data=encoded_x_test_mid, compression=\"gzip\")\n",
    "h5f_encoded_x_test_mid.close()"
   ]
  },
  {
   "cell_type": "code",
   "execution_count": 77,
   "metadata": {},
   "outputs": [],
   "source": [
    "h5f_encoded_x_train_mid = h5py.File('/lcg/storage13/atlas/gupta/encoded_x_train_mid.h5', 'r')\n",
    "h5f_encoded_x_test_mid = h5py.File('/lcg/storage13/atlas/gupta/encoded_x_test_mid.h5', 'r')"
   ]
  },
  {
   "cell_type": "code",
   "execution_count": 78,
   "metadata": {},
   "outputs": [],
   "source": [
    "encoded_x_train = h5f_encoded_x_train_mid['table']\n",
    "encoded_x_test = h5f_encoded_x_test_mid['table']"
   ]
  },
  {
   "cell_type": "code",
   "execution_count": 79,
   "metadata": {},
   "outputs": [
    {
     "data": {
      "text/plain": [
       "(3, 493900, 10)"
      ]
     },
     "execution_count": 79,
     "metadata": {},
     "output_type": "execute_result"
    }
   ],
   "source": [
    "encoded_x_train.shape"
   ]
  },
  {
   "cell_type": "code",
   "execution_count": 80,
   "metadata": {},
   "outputs": [
    {
     "data": {
      "text/plain": [
       "(3, 350000, 10)"
      ]
     },
     "execution_count": 80,
     "metadata": {},
     "output_type": "execute_result"
    }
   ],
   "source": [
    "encoded_x_test.shape"
   ]
  },
  {
   "cell_type": "code",
   "execution_count": 81,
   "metadata": {},
   "outputs": [],
   "source": [
    "encoded_x_train = encoded_x_train[-3]\n",
    "encoded_x_test = encoded_x_test[-3]"
   ]
  },
  {
   "cell_type": "code",
   "execution_count": 83,
   "metadata": {},
   "outputs": [
    {
     "data": {
      "text/plain": [
       "(350000, 10)"
      ]
     },
     "execution_count": 83,
     "metadata": {},
     "output_type": "execute_result"
    }
   ],
   "source": [
    "encoded_x_test.shape"
   ]
  },
  {
   "cell_type": "code",
   "execution_count": 84,
   "metadata": {},
   "outputs": [],
   "source": [
    "predict_jets = vae.predict(x_test_mix,batch_size=100)"
   ]
  },
  {
   "cell_type": "code",
   "execution_count": 85,
   "metadata": {},
   "outputs": [],
   "source": [
    "MSE_loss = np.mean(np.power(x_test_mix - predict_jets, 2), axis=1)"
   ]
  },
  {
   "cell_type": "code",
   "execution_count": 60,
   "metadata": {},
   "outputs": [
    {
     "data": {
      "image/png": "[encoded data removed]",
      "text/plain": [
       "<Figure size 432x288 with 1 Axes>"
      ]
     },
     "metadata": {
      "needs_background": "light"
     },
     "output_type": "display_data"
    }
   ],
   "source": [
    "l_rec_0=[]\n",
    "l_rec_1=[]\n",
    "\n",
    "for i in range(10000):\n",
    "    if y_test_mix[i]==0:\n",
    "        l_rec_0.append(MSE_loss[i])\n",
    "    else:\n",
    "        l_rec_1.append(MSE_loss[i])\n",
    "\n",
    "l_rec_0=np.array(l_rec_0)\n",
    "l_rec_1=np.array(l_rec_1)\n",
    "plt.hist(l_rec_0, histtype=\"step\", label='QCD', density='true')\n",
    "plt.hist(l_rec_1, histtype='step', label='Top', density='true')\n",
    "plt.legend(loc='best')\n",
    "plt.title('FCN AutoEncoder ($D_{in}$=80, $D_{hidden}$=6)')\n",
    "plt.xlabel('$L_{rec}$ (scaled)')\n",
    "plt.show()"
   ]
  },
  {
   "cell_type": "code",
   "execution_count": 61,
   "metadata": {},
   "outputs": [
    {
     "name": "stderr",
     "output_type": "stream",
     "text": [
      "/lcg/storage15/software64/anaconda3/lib/python3.7/site-packages/ipykernel_launcher.py:7: RuntimeWarning: divide by zero encountered in true_divide\n",
      "  import sys\n",
      "No handles with labels found to put in legend.\n"
     ]
    },
    {
     "name": "stdout",
     "output_type": "stream",
     "text": [
      "roc_auc = 0.8410850533027434\n"
     ]
    },
    {
     "data": {
      "image/png": "[encoded data removed]",
      "text/plain": [
       "<Figure size 432x288 with 1 Axes>"
      ]
     },
     "metadata": {
      "needs_background": "light"
     },
     "output_type": "display_data"
    }
   ],
   "source": [
    "from sklearn.metrics import roc_curve\n",
    "from sklearn.metrics import roc_auc_score\n",
    "\n",
    "fpr, tpr, thrs = roc_curve(y_test_mix, MSE_loss)\n",
    "print(\"roc_auc =\", roc_auc_score(y_test_mix, MSE_loss))\n",
    "#plt.plot(fpr, tpr, label=\"%s\" % filename)\n",
    "plt.plot(tpr, 1. / fpr, label=\"\")\n",
    "\n",
    "plt.xlim(0.1, 1.0)\n",
    "plt.ylim(1, 500)\n",
    "plt.yscale(\"log\")\n",
    "plt.title('FCN AutoEncoder ($D_{in}$=80, $D_{hidden}$=6)')\n",
    "plt.grid()\n",
    "plt.xlabel(\"$\\epsilon_S$\")\n",
    "plt.ylabel(\"$1/\\epsilon_B$\")\n",
    "plt.legend(loc=\"best\")\n",
    "plt.show()"
   ]
  },
  {
   "cell_type": "code",
   "execution_count": 82,
   "metadata": {},
   "outputs": [],
   "source": [
    "hash_size = 10\n",
    "sample_size, vec_size = encoded_x_train.shape\n",
    "projections = np.random.randn(hash_size, vec_size)"
   ]
  },
  {
   "cell_type": "code",
   "execution_count": 62,
   "metadata": {},
   "outputs": [],
   "source": [
    "def jaccard_similarity(list1, list2):\n",
    "    s1 = set(list1)\n",
    "    s2 = set(list2)\n",
    "    return len(s1.intersection(s2)) / len(s1.union(s2))"
   ]
  },
  {
   "cell_type": "code",
   "execution_count": 83,
   "metadata": {},
   "outputs": [],
   "source": [
    "hashed_encoded = list()"
   ]
  },
  {
   "cell_type": "code",
   "execution_count": 84,
   "metadata": {},
   "outputs": [],
   "source": [
    "for i in range(sample_size):\n",
    "  bools = ''\n",
    "  for j in range(hash_size):\n",
    "    bool = (np.dot(encoded_x_train[i], projections[j].T) > 0).astype('int')\n",
    "    #print(bool)\n",
    "    bools += str(bool)\n",
    "    #print(bools)\n",
    "  hashed_encoded.append(bools)"
   ]
  },
  {
   "cell_type": "code",
   "execution_count": 85,
   "metadata": {},
   "outputs": [
    {
     "data": {
      "text/plain": [
       "493900"
      ]
     },
     "execution_count": 85,
     "metadata": {},
     "output_type": "execute_result"
    }
   ],
   "source": [
    "len(hashed_encoded)"
   ]
  },
  {
   "cell_type": "code",
   "execution_count": 86,
   "metadata": {},
   "outputs": [],
   "source": [
    "def getDuplicatesWithInfo(hashed_encoded):\n",
    "    ''' Get duplicate element in a list along with thier indices in list\n",
    "     and frequency count'''\n",
    "    dictOfElems = dict()\n",
    "    index = 0\n",
    "    # Iterate over each element in list and keep track of index\n",
    "    for elem in hashed_encoded:\n",
    "        # If element exists in dict then keep its index in lisr & increment its frequency\n",
    "        if elem in dictOfElems:\n",
    "            dictOfElems[elem][0] += 1\n",
    "            dictOfElems[elem][1].append(index)\n",
    "        else:\n",
    "            # Add a new entry in dictionary \n",
    "            dictOfElems[elem] = [1, [index]]\n",
    "            #dictOfElems[elem] = 1\n",
    "        index += 1    \n",
    " \n",
    "    dictOfElems = { key:value for key, value in dictOfElems.items() }\n",
    "    return dictOfElems"
   ]
  },
  {
   "cell_type": "code",
   "execution_count": 87,
   "metadata": {},
   "outputs": [],
   "source": [
    "dictOfElems = getDuplicatesWithInfo(hashed_encoded)\n",
    "listHash = list()\n",
    "listOther = list()\n",
    "for key, value in dictOfElems.items():\n",
    "  listHash.append(key)\n",
    "  listOther.append(value)"
   ]
  },
  {
   "cell_type": "code",
   "execution_count": 88,
   "metadata": {},
   "outputs": [],
   "source": [
    "listHash = np.array(listHash)\n",
    "listOther = np.array(listOther)"
   ]
  },
  {
   "cell_type": "code",
   "execution_count": 53,
   "metadata": {},
   "outputs": [],
   "source": [
    "#listOther"
   ]
  },
  {
   "cell_type": "code",
   "execution_count": 53,
   "metadata": {},
   "outputs": [
    {
     "data": {
      "text/plain": [
       "(array([744.,   3.,   3.,   1.,   3.,   0.,   0.,   0.,   0.,   1.]),\n",
       " array([1.00000e+00, 8.49410e+03, 1.69872e+04, 2.54803e+04, 3.39734e+04,\n",
       "        4.24665e+04, 5.09596e+04, 5.94527e+04, 6.79458e+04, 7.64389e+04,\n",
       "        8.49320e+04]),\n",
       " <a list of 1 Patch objects>)"
      ]
     },
     "execution_count": 53,
     "metadata": {},
     "output_type": "execute_result"
    },
    {
     "data": {
      "image/png": "[encoded data removed]",
      "text/plain": [
       "<Figure size 432x288 with 1 Axes>"
      ]
     },
     "metadata": {
      "needs_background": "light"
     },
     "output_type": "display_data"
    }
   ],
   "source": [
    "plt.hist(listOther, histtype=\"step\", label='QCD',density=True)"
   ]
  },
  {
   "cell_type": "code",
   "execution_count": 71,
   "metadata": {},
   "outputs": [],
   "source": [
    "other = listOther[:,0]"
   ]
  },
  {
   "cell_type": "code",
   "execution_count": 70,
   "metadata": {},
   "outputs": [
    {
     "data": {
      "text/plain": [
       "array([41074, 66324, 87, 994, 914, 6792, 2650, 1983, 13891, 25891, 1764,\n",
       "       203, 1400, 617, 4263, 11249, 41876, 4669, 415, 790, 183, 537,\n",
       "       15398, 7534, 629, 118, 3770, 1875, 239, 37502, 2766, 367, 21876,\n",
       "       455, 1614, 1828, 11104, 265, 2895, 1653, 423, 5, 874, 860, 4304,\n",
       "       241, 1096, 12818, 202, 242, 1852, 1786, 356, 763, 1933, 2430, 4986,\n",
       "       450, 85, 372, 1593, 1404, 165, 1307, 1572, 2126, 394, 1215, 1432,\n",
       "       30, 366, 181, 116, 65, 1126, 64, 338, 339, 1441, 993, 457, 255,\n",
       "       477, 1001, 614, 1920, 100, 698, 389, 230, 225, 391, 181, 2012,\n",
       "       2236, 644, 875, 1321, 347, 1553, 42, 934, 209, 124, 297, 902, 255,\n",
       "       1222, 931, 1491, 954, 121, 511, 222, 273, 484, 132, 859, 191, 1012,\n",
       "       138, 160, 340, 238, 158, 595, 2162, 464, 1014, 473, 648, 123, 618,\n",
       "       9, 3, 31, 51, 43, 378, 258, 787, 169, 175, 163, 343, 248, 405, 450,\n",
       "       1002, 42, 157, 39, 98, 127, 263, 185, 21, 575, 228, 488, 112, 67,\n",
       "       1026, 636, 411, 703, 19, 133, 39, 216, 1010, 751, 20, 107, 1103,\n",
       "       806, 592, 261, 672, 264, 124, 255, 41, 743, 1137, 1115, 160, 31,\n",
       "       59, 90, 139, 1, 262, 21, 632, 1236, 237, 174, 275, 234, 20, 387,\n",
       "       404, 76, 881, 341, 324, 341, 154, 152, 45, 7, 625, 112, 793, 180,\n",
       "       62, 383, 10, 248, 512, 180, 89, 30, 10, 192, 732, 245, 386, 8, 100,\n",
       "       76, 61, 92, 202, 302, 80, 117, 241, 394, 28, 10, 119, 26, 207, 219,\n",
       "       60, 308, 34, 234, 286, 454, 370, 83, 121, 186, 278, 259, 182, 88,\n",
       "       117, 119, 15, 358, 1448, 49, 69, 114, 498, 50, 192, 341, 221, 95,\n",
       "       3, 85, 26, 36, 121, 131, 86, 288, 9, 5, 267, 39, 30, 169, 716, 490,\n",
       "       101, 124, 112, 829, 190, 118, 50, 36, 167, 617, 43, 52, 307, 143,\n",
       "       97, 316, 69, 57, 218, 67, 20, 118, 213, 163, 231, 56, 25, 61, 109,\n",
       "       178, 68, 312, 54, 87, 343, 1, 98, 391, 77, 801, 3, 314, 98, 53, 94,\n",
       "       202, 190, 78, 244, 30, 39, 192, 47, 142, 32, 50, 23, 226, 131, 33,\n",
       "       41, 1, 244, 6, 25, 105, 22, 16, 41, 12, 70, 49, 415, 109, 203, 46,\n",
       "       116, 466, 29, 33, 2, 41, 31, 13, 51, 88, 153, 18, 115, 173, 158,\n",
       "       25, 149, 82, 101, 99, 25, 122, 75, 66, 24, 59, 2, 194, 115, 30, 51,\n",
       "       42, 87, 239, 14, 21, 30, 28, 61, 38, 50, 53, 63, 31, 105, 16, 33,\n",
       "       69, 23, 77, 48, 20, 37, 166, 8, 51, 67, 11, 45, 74, 25, 259, 49,\n",
       "       67, 27, 66, 10, 83, 41, 59, 37, 45, 45, 13, 88, 129, 13, 55, 66,\n",
       "       70, 101, 42, 96, 25, 1, 66, 85, 31, 25, 39, 71, 25, 46, 27, 173,\n",
       "       137, 22, 108, 23, 25, 67, 25, 77, 11, 17, 12, 105, 9, 9, 104, 48,\n",
       "       51, 84, 32, 42, 28, 15, 46, 4, 25, 15, 47, 97, 80, 14, 72, 82, 21,\n",
       "       81, 16, 54, 28, 30, 69, 73, 80, 18, 25, 8, 65, 14, 62, 37, 34, 35,\n",
       "       50, 80, 49, 10, 144, 25, 9, 85, 37, 11, 17, 54, 3, 11, 65, 75, 106,\n",
       "       44, 63, 18, 29, 40, 6, 27, 53, 4, 24, 38, 82, 9, 35, 72, 51, 42,\n",
       "       25, 29, 65, 115, 25, 11, 20, 59, 4, 2, 6, 74, 86, 107, 13, 17, 44,\n",
       "       32, 168, 48, 45, 38, 13, 11, 20, 12, 14, 68, 5, 15, 2, 12, 81, 19,\n",
       "       29, 1, 54, 18, 11, 34, 8, 13, 21, 31, 38, 45, 92, 17, 8, 16, 18, 4,\n",
       "       3, 15, 4, 5, 40, 11, 21, 4, 28, 8, 7, 5, 40, 7, 5, 19, 4, 72, 5,\n",
       "       13, 23, 22, 1, 43, 13, 22, 6, 42, 29, 13, 4, 14, 34, 2, 5, 37, 67,\n",
       "       28, 11, 20, 5, 17, 25, 23, 31, 19, 10, 7, 9, 10, 3, 20, 6, 23, 4,\n",
       "       3, 6, 2, 14, 32, 25, 1, 35, 24, 7, 6, 8, 40, 8, 8, 12, 17, 4, 8,\n",
       "       14, 6, 16, 6, 4, 3, 1, 5, 18, 9, 8, 26, 9, 28, 11, 12, 6, 24, 45,\n",
       "       14, 1, 16, 9, 19, 3, 10, 17, 7, 16, 4, 8, 1, 3, 9, 6, 3, 11, 9, 11,\n",
       "       13, 1, 5, 8, 7, 6, 24, 5, 1, 1, 2, 4, 10, 3, 6, 12, 1, 10, 13, 4,\n",
       "       2, 7, 1, 2, 2, 2, 4, 3, 3, 7, 14, 1, 7, 3, 3, 14, 4, 2, 5, 3, 6, 2,\n",
       "       7, 13, 7, 4, 2, 3, 5, 25, 4, 1, 6, 4, 7, 2, 7, 3, 1, 4, 1, 8, 6, 1,\n",
       "       2, 2, 5, 2, 11, 8, 4, 13, 6, 1, 11, 1, 4, 4, 2, 3, 9, 3, 5, 1, 3,\n",
       "       4, 1, 2, 1, 2, 2, 2, 2, 3, 2, 8, 2, 2, 2, 1, 2, 2, 2, 1, 1, 6, 1,\n",
       "       1, 1, 3, 4, 4, 1, 1, 1, 1, 2, 4, 3, 2, 2, 1, 2, 3, 1, 1, 3, 3, 1,\n",
       "       5, 1, 2, 1, 1, 2, 1, 1, 1, 1, 1, 1, 1], dtype=object)"
      ]
     },
     "execution_count": 70,
     "metadata": {},
     "output_type": "execute_result"
    }
   ],
   "source": [
    "other"
   ]
  },
  {
   "cell_type": "code",
   "execution_count": 200,
   "metadata": {},
   "outputs": [],
   "source": [
    "base = np.arange(2000)"
   ]
  },
  {
   "cell_type": "code",
   "execution_count": 73,
   "metadata": {},
   "outputs": [
    {
     "data": {
      "image/png": "[encoded data removed]",
      "text/plain": [
       "<Figure size 432x288 with 1 Axes>"
      ]
     },
     "metadata": {
      "needs_background": "light"
     },
     "output_type": "display_data"
    }
   ],
   "source": [
    "plt.plot(other)\n",
    "plt.xlim([0,30])\n",
    "plt.show()"
   ]
  },
  {
   "cell_type": "code",
   "execution_count": 204,
   "metadata": {},
   "outputs": [
    {
     "data": {
      "image/png": "[encoded data removed]",
      "text/plain": [
       "<Figure size 432x288 with 1 Axes>"
      ]
     },
     "metadata": {
      "needs_background": "light"
     },
     "output_type": "display_data"
    }
   ],
   "source": [
    "plt.plot(other)\n",
    "#plt.xlim([0,2000])\n",
    "plt.show()"
   ]
  },
  {
   "cell_type": "code",
   "execution_count": 89,
   "metadata": {},
   "outputs": [
    {
     "data": {
      "text/plain": [
       "(813,)"
      ]
     },
     "execution_count": 89,
     "metadata": {},
     "output_type": "execute_result"
    }
   ],
   "source": [
    "listHash.shape"
   ]
  },
  {
   "cell_type": "code",
   "execution_count": 90,
   "metadata": {},
   "outputs": [],
   "source": [
    "tableSize= len(listHash)"
   ]
  },
  {
   "cell_type": "code",
   "execution_count": 91,
   "metadata": {},
   "outputs": [
    {
     "data": {
      "text/plain": [
       "(350000, 10)"
      ]
     },
     "execution_count": 91,
     "metadata": {},
     "output_type": "execute_result"
    }
   ],
   "source": [
    "encoded_x_test.shape"
   ]
  },
  {
   "cell_type": "code",
   "execution_count": 92,
   "metadata": {},
   "outputs": [],
   "source": [
    "sample_size, vec_size = encoded_x_test.shape"
   ]
  },
  {
   "cell_type": "code",
   "execution_count": 93,
   "metadata": {},
   "outputs": [],
   "source": [
    "hash_truth = list()\n",
    "bkgCount = list()"
   ]
  },
  {
   "cell_type": "code",
   "execution_count": 94,
   "metadata": {},
   "outputs": [
    {
     "data": {
      "text/plain": [
       "0"
      ]
     },
     "execution_count": 94,
     "metadata": {},
     "output_type": "execute_result"
    }
   ],
   "source": [
    "len(hash_truth)"
   ]
  },
  {
   "cell_type": "code",
   "execution_count": 95,
   "metadata": {},
   "outputs": [
    {
     "name": "stdout",
     "output_type": "stream",
     "text": [
      "91\n"
     ]
    }
   ],
   "source": [
    "count = 0\n",
    "for i in range(sample_size):\n",
    "  bools = ''\n",
    "  a = 1\n",
    "  for j in range(hash_size):\n",
    "    bool = (np.dot(encoded_x_test[i], projections[j].T) > 0).astype('int')\n",
    "    #print(bool)\n",
    "    bools += str(bool)\n",
    "  #print(bools)\n",
    "  for k in range(tableSize):\n",
    "    #print(\"bools: \",bools)\n",
    "    #print(\"listHash: \", listHash[k])\n",
    "    if bools == listHash[k]:\n",
    "    #sim = jaccard_similarity(bools, listHash[k])\n",
    "    #if sim>0.5:\n",
    "      #print(sim)\n",
    "      #print(\"listHash: \", listHash[k])\n",
    "      bkgCount.append(k)\n",
    "      a=0\n",
    "      #print(a)\n",
    "      #print(a)\n",
    "      break\n",
    "  #count = 0\n",
    "  if(a==1):\n",
    "    count+=1\n",
    "    #print(a)\n",
    "  #print(count)\n",
    "  hash_truth.append(a)\n",
    "print(count)"
   ]
  },
  {
   "cell_type": "code",
   "execution_count": 64,
   "metadata": {},
   "outputs": [],
   "source": [
    "from collections import Counter"
   ]
  },
  {
   "cell_type": "code",
   "execution_count": 65,
   "metadata": {},
   "outputs": [
    {
     "data": {
      "text/plain": [
       "350000"
      ]
     },
     "execution_count": 65,
     "metadata": {},
     "output_type": "execute_result"
    }
   ],
   "source": [
    "len(bkgCount)"
   ]
  },
  {
   "cell_type": "code",
   "execution_count": 66,
   "metadata": {},
   "outputs": [],
   "source": [
    "bkg = Counter(bkgCount)"
   ]
  },
  {
   "cell_type": "code",
   "execution_count": 67,
   "metadata": {},
   "outputs": [],
   "source": [
    "bkga=sorted(bkg.items())"
   ]
  },
  {
   "cell_type": "code",
   "execution_count": 68,
   "metadata": {},
   "outputs": [],
   "source": [
    "bkgfreq = [x[1] for x in bkga]"
   ]
  },
  {
   "cell_type": "code",
   "execution_count": 70,
   "metadata": {},
   "outputs": [
    {
     "data": {
      "image/png": "[encoded data removed]",
      "text/plain": [
       "<Figure size 432x288 with 1 Axes>"
      ]
     },
     "metadata": {
      "needs_background": "light"
     },
     "output_type": "display_data"
    }
   ],
   "source": [
    "plt.plot(bkgfreq)\n",
    "plt.xlim([0,30])\n",
    "plt.show()"
   ]
  },
  {
   "cell_type": "code",
   "execution_count": 108,
   "metadata": {},
   "outputs": [
    {
     "ename": "KeyboardInterrupt",
     "evalue": "",
     "output_type": "error",
     "traceback": [
      "\u001b[0;31m---------------------------------------------------------------------------\u001b[0m",
      "\u001b[0;31mKeyboardInterrupt\u001b[0m                         Traceback (most recent call last)",
      "\u001b[0;32m<ipython-input-108-0fef96f2983a>\u001b[0m in \u001b[0;36m<module>\u001b[0;34m\u001b[0m\n\u001b[1;32m      1\u001b[0m \u001b[0mbkg\u001b[0m \u001b[0;34m=\u001b[0m \u001b[0mlist\u001b[0m\u001b[0;34m(\u001b[0m\u001b[0;34m)\u001b[0m\u001b[0;34m\u001b[0m\u001b[0;34m\u001b[0m\u001b[0m\n\u001b[1;32m      2\u001b[0m \u001b[0;32mfor\u001b[0m \u001b[0mi\u001b[0m \u001b[0;32min\u001b[0m \u001b[0mnp\u001b[0m\u001b[0;34m.\u001b[0m\u001b[0marange\u001b[0m\u001b[0;34m(\u001b[0m\u001b[0;36m349932\u001b[0m\u001b[0;34m)\u001b[0m\u001b[0;34m:\u001b[0m\u001b[0;34m\u001b[0m\u001b[0;34m\u001b[0m\u001b[0m\n\u001b[0;32m----> 3\u001b[0;31m     \u001b[0mbkg\u001b[0m\u001b[0;34m.\u001b[0m\u001b[0mappend\u001b[0m\u001b[0;34m(\u001b[0m\u001b[0mbkgCount\u001b[0m\u001b[0;34m.\u001b[0m\u001b[0mcount\u001b[0m\u001b[0;34m(\u001b[0m\u001b[0mi\u001b[0m\u001b[0;34m)\u001b[0m\u001b[0;34m)\u001b[0m\u001b[0;34m\u001b[0m\u001b[0;34m\u001b[0m\u001b[0m\n\u001b[0m",
      "\u001b[0;31mKeyboardInterrupt\u001b[0m: "
     ]
    }
   ],
   "source": [
    "bkg = list()\n",
    "for i in np.arange(349932):\n",
    "    bkg.append(bkgCount.count(i))"
   ]
  },
  {
   "cell_type": "code",
   "execution_count": 96,
   "metadata": {},
   "outputs": [
    {
     "data": {
      "image/png": "[encoded data removed]",
      "text/plain": [
       "<Figure size 432x288 with 1 Axes>"
      ]
     },
     "metadata": {
      "needs_background": "light"
     },
     "output_type": "display_data"
    }
   ],
   "source": [
    "l_rec_0=[]\n",
    "l_rec_1=[]\n",
    "\n",
    "for i in range(100000):\n",
    "    if hash_truth[i]==0:\n",
    "        l_rec_0.append(MSE_loss[i])\n",
    "    else:\n",
    "        l_rec_1.append(MSE_loss[i])\n",
    "\n",
    "l_rec_0=np.array(l_rec_0)\n",
    "l_rec_1=np.array(l_rec_1)\n",
    "plt.hist(l_rec_0, histtype=\"step\", label='QCD',density=True)\n",
    "plt.hist(l_rec_1, histtype='step', label='Top',density=True)\n",
    "plt.legend(loc='best')\n",
    "plt.xlabel('MSE')\n",
    "#plt.yscale(\"log\")\n",
    "plt.show()"
   ]
  },
  {
   "cell_type": "code",
   "execution_count": 97,
   "metadata": {},
   "outputs": [
    {
     "name": "stderr",
     "output_type": "stream",
     "text": [
      "/lcg/storage15/software64/anaconda3/lib/python3.7/site-packages/ipykernel_launcher.py:7: RuntimeWarning: divide by zero encountered in true_divide\n",
      "  import sys\n",
      "No handles with labels found to put in legend.\n"
     ]
    },
    {
     "name": "stdout",
     "output_type": "stream",
     "text": [
      "roc_auc = 0.641890659232311\n"
     ]
    },
    {
     "data": {
      "image/png": "[encoded data removed]",
      "text/plain": [
       "<Figure size 432x288 with 1 Axes>"
      ]
     },
     "metadata": {
      "needs_background": "light"
     },
     "output_type": "display_data"
    }
   ],
   "source": [
    "from sklearn.metrics import roc_curve\n",
    "from sklearn.metrics import roc_auc_score\n",
    "\n",
    "fpr, tpr, thrs = roc_curve(hash_truth, MSE_loss)\n",
    "print(\"roc_auc =\", roc_auc_score(hash_truth, MSE_loss))\n",
    "#plt.plot(fpr, tpr, label=\"%s\" % filename)\n",
    "plt.plot(tpr, 1. / fpr, label=\"\")\n",
    "\n",
    "plt.xlim(0.1, 1.0)\n",
    "plt.ylim(1, 500)\n",
    "plt.yscale(\"log\")\n",
    "plt.title('FCN AutoEncoder ($D_{in}$=80, $D_{hidden}$=6)')\n",
    "plt.grid()\n",
    "plt.xlabel(\"$\\epsilon_S$\")\n",
    "plt.ylabel(\"$1/\\epsilon_B$\")\n",
    "plt.legend(loc=\"best\")\n",
    "plt.show()"
   ]
  },
  {
   "cell_type": "code",
   "execution_count": null,
   "metadata": {},
   "outputs": [],
   "source": []
  }
 ],
 "metadata": {
  "kernelspec": {
   "display_name": "Python 3",
   "language": "python",
   "name": "python3"
  },
  "language_info": {
   "codemirror_mode": {
    "name": "ipython",
    "version": 3
   },
   "file_extension": ".py",
   "mimetype": "text/x-python",
   "name": "python",
   "nbconvert_exporter": "python",
   "pygments_lexer": "ipython3",
   "version": "3.7.1"
  }
 },
 "nbformat": 4,
 "nbformat_minor": 2
}
